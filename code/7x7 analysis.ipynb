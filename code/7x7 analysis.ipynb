{
 "cells": [
  {
   "cell_type": "code",
   "execution_count": 1,
   "metadata": {},
   "outputs": [],
   "source": [
    "import pandas as pd\n",
    "from collections import Counter\n",
    "import re\n",
    "import pymorphy2\n",
    "from nltk import word_tokenize\n",
    "from nltk.util import ngrams\n",
    "from nltk.corpus import stopwords\n"
   ]
  },
  {
   "cell_type": "markdown",
   "metadata": {},
   "source": [
    "# Очистка и обработка данных"
   ]
  },
  {
   "cell_type": "markdown",
   "metadata": {},
   "source": [
    "## Очистка"
   ]
  },
  {
   "cell_type": "code",
   "execution_count": 27,
   "metadata": {},
   "outputs": [],
   "source": [
    "path = \"your/path/to/data.csv\"\n",
    "df = pd.read_csv(path)"
   ]
  },
  {
   "cell_type": "code",
   "execution_count": 28,
   "metadata": {},
   "outputs": [],
   "source": [
    "# выделяем из базы данных только те колонки, которые нам нужны\n",
    "# выбираем сообщения, опубликованные не раньше 1 января 2024 года\n",
    "df = df[['date', 'message_id', 'message']]\n",
    "df = df.loc[df['date'] >= '2024-11-19']"
   ]
  },
  {
   "cell_type": "code",
   "execution_count": 35,
   "metadata": {},
   "outputs": [],
   "source": [
    "# удаляем ненужные строки, рекламу\n",
    "ad_phrases = [\n",
    "                'mediamessage',\n",
    "                'дайджест',\n",
    "                '#дайджест',\n",
    "                'платноеразмещение',\n",
    "                'партнерский',\n",
    "                'рекламная_подборка',\n",
    "                '#реклама',\n",
    "                '#портретрегиона',\n",
    "                'о своих проектах на нашу аудиторию',\n",
    "                'произошло в регионах',\n",
    "                'новости в редакцию «7х7»',\n",
    "                'подари «7х7» звезды',\n",
    "                'звонок для учителя',\n",
    "                'это анонимный автор',\n",
    "                'ежемесячное пожертвование',\n",
    "                'зарубежной карты',\n",
    "                'время прочтения',\n",
    "                'для чтения в telegram',\n",
    "                'время чтения',\n",
    "                'к нам пришла женщина',\n",
    "                '#естьвопрос',\n",
    "                '#музыка',\n",
    "                '#книги',\n",
    "                'легенды7х7',\n",
    "                '#текст_немосква',\n",
    "                '#Герои7',\n",
    "                'Наш эфир',\n",
    "                'эфир «Эха регионов»',\n",
    "                'Читайте текст в «Новой вкладке»'\n",
    "]\n",
    "\n",
    "# функция для классификации рекламных сообщений\n",
    "# на входе: текст сообщения, на выходе: маркировка сообщения\n",
    "def is_ad(text):\n",
    "    if not isinstance(text, str):  # Handle non-string values\n",
    "        return False\n",
    "    return any(phrase in text.lower() for phrase in ad_phrases)\n",
    "\n",
    "# удаляем все сообщения, маркированные как реклама\n",
    "df = df[~df['message'].apply(is_ad)]"
   ]
  },
  {
   "cell_type": "markdown",
   "metadata": {},
   "source": [
    "## Обработка"
   ]
  },
  {
   "cell_type": "code",
   "execution_count": 36,
   "metadata": {},
   "outputs": [],
   "source": [
    "# приведем все буквы в нижний регистр\n",
    "df['message'] = df['message'].str.lower()"
   ]
  },
  {
   "cell_type": "code",
   "execution_count": 37,
   "metadata": {},
   "outputs": [],
   "source": [
    "# выделим заголовки из сообщений\n",
    "# на входе: сообщение, где предложения выделены ** и остальной текст\n",
    "# на выходе: только предложения между **\n",
    "def extract_title(message):\n",
    "    if not isinstance(message, str):  # Handle non-string values\n",
    "        return None\n",
    "    match = re.search(r'\\*\\*(.*?)\\*\\*', message)\n",
    "    return match.group(1).strip() if match else None\n",
    "\n",
    "df['title'] = df['message'].apply(extract_title)"
   ]
  },
  {
   "cell_type": "code",
   "execution_count": 39,
   "metadata": {},
   "outputs": [],
   "source": [
    "# достаем из сообщений все хэштеги\n",
    "def extract_hashtags(text):\n",
    "    if not isinstance(text, str):  # если попадется не строка\n",
    "        return []\n",
    "    return re.findall(r'#\\w+', text)  # выделаем все слова, перед которыми стоит #\n",
    "\n",
    "df['hashtags'] = df['message'].apply(extract_hashtags)"
   ]
  },
  {
   "cell_type": "code",
   "execution_count": 40,
   "metadata": {},
   "outputs": [
    {
     "name": "stderr",
     "output_type": "stream",
     "text": [
      "/var/folders/5r/7bhf5tqj0wb9bbk62kmr6wk80000gp/T/ipykernel_15882/2199477774.py:2: FutureWarning: The default value of regex will change from True to False in a future version.\n",
      "  df['message'] = df['message'].str.replace(r'[^а-яА-ЯёЁ\\s]', ' ')\n"
     ]
    }
   ],
   "source": [
    "# после того, как достали заголовки и хэштеги, удалим ненужные символы\n",
    "df['message'] = df['message'].str.replace(r'[^а-яА-ЯёЁ\\s]', ' ')"
   ]
  },
  {
   "cell_type": "code",
   "execution_count": 41,
   "metadata": {},
   "outputs": [],
   "source": [
    "# приводим все слова в сообщениях в инфинитивную форму, \n",
    "# чтобы легче было использовать фильтр \n",
    "morph = pymorphy2.MorphAnalyzer()\n",
    "\n",
    "def normalize_text(text):\n",
    "    if not isinstance(text, str):  # если попадется не строка\n",
    "        return \"\"\n",
    "    tokens = text.split()  # разделяем слова по пробелам\n",
    "    normalized_tokens = [morph.parse(word)[0].normal_form for word in tokens]  # приводим в инфинитив\n",
    "    return \" \".join(normalized_tokens)  # соединяем обратно инфинитивы в сообщение"
   ]
  },
  {
   "cell_type": "code",
   "execution_count": 42,
   "metadata": {},
   "outputs": [],
   "source": [
    "df['normalized_message'] = df['message'].apply(normalize_text)"
   ]
  },
  {
   "cell_type": "code",
   "execution_count": 43,
   "metadata": {},
   "outputs": [
    {
     "name": "stderr",
     "output_type": "stream",
     "text": [
      "/var/folders/5r/7bhf5tqj0wb9bbk62kmr6wk80000gp/T/ipykernel_15882/2464783884.py:2: FutureWarning: The default value of regex will change from True to False in a future version.\n",
      "  df['title'] = df['title'].str.replace(r'[^а-яА-ЯёЁ\\s]', ' ')\n"
     ]
    }
   ],
   "source": [
    "# приводим слова в заголовках в инфинитивную форму\n",
    "df['title'] = df['title'].str.replace(r'[^а-яА-ЯёЁ\\s]', ' ')\n",
    "df['title'] = df['title'].apply(normalize_text)"
   ]
  },
  {
   "cell_type": "markdown",
   "metadata": {},
   "source": [
    "## Дополнительная очистка данных"
   ]
  },
  {
   "cell_type": "code",
   "execution_count": 47,
   "metadata": {},
   "outputs": [],
   "source": [
    "df = df[~df['normalized_message'].str.contains('городской легенда')]\n",
    "df = df[~df['normalized_message'].str.contains('выбирать победитель премия')]\n",
    "df = df[~df['normalized_message'].str.contains('эфир эхо регион')]\n",
    "df = df[~df['normalized_message'].str.contains('путевой дневник')]\n",
    "df = df[~df['normalized_message'].str.contains('наш уличный опрос')]\n",
    "df = df[~df['message'].str.contains(r'подводим итоги\\s+\\d+\\s+голосования')]"
   ]
  },
  {
   "cell_type": "code",
   "execution_count": 92,
   "metadata": {},
   "outputs": [],
   "source": [
    "# оставляем в колонке с хэштегами только первый хэштег\n",
    "# очищаем получившееся от лишних знаков\n",
    "df['hashtags'] = df['hashtags'].str.split(',').str[0]\n",
    "df['hashtags'] = df['hashtags'].str.replace('#', '')"
   ]
  },
  {
   "cell_type": "markdown",
   "metadata": {},
   "source": [
    "# Категоризация данных"
   ]
  },
  {
   "cell_type": "markdown",
   "metadata": {},
   "source": [
    "## Категоризуем сообщения"
   ]
  },
  {
   "cell_type": "code",
   "execution_count": 94,
   "metadata": {},
   "outputs": [],
   "source": [
    "category_keywords = {\n",
    "\n",
    "'legal': [\n",
    "    'штраф',\n",
    "    'дискредитация',\n",
    "    'административный протокол',\n",
    "    'административный дело',\n",
    "    'уголовный дело',\n",
    "    'лишение свобода',\n",
    "    'предостережение',\n",
    "    'овд инфо',\n",
    "    'стать свидетель',\n",
    "    'cуд',\n",
    "    'приговорить год колония',\n",
    "    'оштрафовать',\n",
    "    'колония'\n",
    "],\n",
    "'protest' : [\n",
    "    'акция',\n",
    "    'протест',\n",
    "    'пикет',\n",
    "    'митинг',\n",
    "    'против',\n",
    "    'забастовка',\n",
    "    'петиция',\n",
    "    'сбор',\n",
    "    'подпись',\n",
    "    'письмо',\n",
    "    'отставка',\n",
    "    'бунт',\n",
    "    'обращение',\n",
    "    'голодовка',\n",
    "    'набрать',\n",
    "    'стихийный мемориал',\n",
    "    'нести цветок',\n",
    "    'сход',\n",
    "    'сбор подпись',\n",
    "    'в знак протест',\n",
    "    'тысяч подпись',\n",
    "    r'\\bмитинг против отмена',\n",
    "    'запустить петиция'\n",
    "    # 'правозащитник'\n",
    "    # 'против строительство',\n",
    "    # 'выступить против',\n",
    "    # 'противн',\n",
    "    # r'[\\s]увол[^\\s]+',\n",
    "    # 'антивоен',\n",
    "    # r'активист',\n",
    "    # r'[\\s]задерж[^\\s]+',\n",
    "    # r'штраф',\n",
    "    # r'[\\s]уйти в отставку[^\\s]+',\n",
    "    # r'[\\s]сбор подписей[^\\s]+',\n",
    "    # r'[\\s]к Путину[^\\s]+',\n",
    "    # r'[\\s]потребовали отставки[^\\s]+',\n",
    "],\n",
    "'elections' : [\n",
    "    'избирательный участок',\n",
    "    'борис надеждин',\n",
    "    'штаб надеждин',\n",
    "    r'надеждин[^\\s]+',\n",
    "    'выборы',\n",
    "    'полдень против путин'\n",
    "],\n",
    "'terrorism' : [\n",
    "    'крокус сити',\n",
    "    'сити холл',\n",
    "    'теракт крокус',\n",
    "    'крокус сити холл'\n",
    "]\n",
    "\n",
    "}"
   ]
  },
  {
   "cell_type": "code",
   "execution_count": 64,
   "metadata": {},
   "outputs": [],
   "source": [
    "hashtag_keywords = [\n",
    "    '#выборы2024',\n",
    "    '#выборы24',\n",
    "    '#__выборы24',\n",
    "    '#выборы____',\n",
    "    '#выборы24__'\n",
    "]"
   ]
  },
  {
   "cell_type": "code",
   "execution_count": 65,
   "metadata": {},
   "outputs": [],
   "source": [
    "def is_election(text):\n",
    "    if text is None:  # если вдруг нет текста\n",
    "        return None\n",
    "    return 'elections' if any(keyword in text for keyword in hashtag_keywords) else None\n",
    "\n",
    "df['category'] = df['hashtags'].apply(is_election)"
   ]
  },
  {
   "cell_type": "code",
   "execution_count": 66,
   "metadata": {},
   "outputs": [],
   "source": [
    "# категоризуем сообщения, если у них ещё нет категории\n",
    "def categorize_message(text, current_category):\n",
    "    if current_category and current_category != \"Uncategorized\":  # пропускаем уже категаризованные сообщения\n",
    "        return current_category\n",
    "    if not isinstance(text, str):  # а вдруг не строка\n",
    "        return \"Uncategorized\"\n",
    "    for category, keywords in category_keywords.items():\n",
    "        if any(keyword in text for keyword in keywords):  # сопоставляем со словарём\n",
    "            return category\n",
    "    return \"Uncategorized\"  \n"
   ]
  },
  {
   "cell_type": "code",
   "execution_count": 67,
   "metadata": {},
   "outputs": [],
   "source": [
    "df['category'] = df.apply(lambda row: categorize_message(row['normalized_message'], row['category']), axis=1)"
   ]
  },
  {
   "cell_type": "markdown",
   "metadata": {},
   "source": [
    "## Категоризуем заголовки"
   ]
  },
  {
   "cell_type": "code",
   "execution_count": 68,
   "metadata": {},
   "outputs": [],
   "source": [
    "# используем тот же словарь для категоризации заголовков\n",
    "def categorize_title(text):\n",
    "    if not isinstance(text, str):  \n",
    "        return \"Uncategorized\"\n",
    "    for category, keywords in category_keywords.items():\n",
    "        if any(keyword in text for keyword in keywords):  \n",
    "            return category\n",
    "    return \"Uncategorized\""
   ]
  },
  {
   "cell_type": "code",
   "execution_count": 69,
   "metadata": {},
   "outputs": [],
   "source": [
    "df['category_title'] = df['title'].apply(categorize_title)"
   ]
  },
  {
   "cell_type": "markdown",
   "metadata": {},
   "source": [
    "# Более точный фильтр"
   ]
  },
  {
   "cell_type": "code",
   "execution_count": 100,
   "metadata": {},
   "outputs": [],
   "source": [
    "# функция для расчёта \"протестности\" сообщения\n",
    "def protest_filter(row, threshold=4.0):\n",
    "    message = row['message'] if pd.notna(row['message']) else \"\"\n",
    "    title = row['title'] if pd.notna(row['title']) else \"\"\n",
    "    hashtags = row['hashtags'] if pd.notna(row['hashtags']) else \"\"\n",
    "\n",
    "    # всё ещё раз в нижний регистр\n",
    "    message, title, hashtags = message.lower(), title.lower(), hashtags.lower()\n",
    "\n",
    "    # фразы о протестах\n",
    "    high_weight_phrases = {\n",
    "        r\"потребовали возбудить уголовное дело\": 4.5,\n",
    "        r\"митинг прошел\": 4.5,\n",
    "        r\"создали петицию против\": 4.5,\n",
    "        r\"\\bчеловек (вышли|собрались) на митинг против\\b\": 4.5,\n",
    "        r\"\\bжителей .+? потребовали отставки\\b\": 4.5,\n",
    "        r\"\\bмитинг против\\b\": 4.0,\n",
    "        r\"\\bначали сбор подписей\\b\": 4.5,\n",
    "        r\"собрали тыс подписей\": 4.5,\n",
    "        r\"вышли на митинг(и)? против\": 4.5,\n",
    "        r\"вышли стихийный митинг\": 4.5,\n",
    "        r\"вышли пикет против\": 4.5,\n",
    "        r\"\\bпотребовало отставки\\b\": 4.0,\n",
    "        r\"потребовали уволить\": 4.0,\n",
    "        r\"запустили петицию против\": 4.0,\n",
    "        r\"вышли сход против\": 4.0,\n",
    "        r\"протестуют против\": 4.0,\n",
    "        r\"провел одиночный пикет\": 3.5,\n",
    "        r\"\\bустроил одиночный пикет\\b\": 3.5,\n",
    "        r\"горожане беспокоятся\": 3.5,\n",
    "        r\"сбор подписей отставку\": 4.0,\n",
    "        r\"жители выступили против\": 4.0,\n",
    "        r\"привлечь внимание проблеме\": 3.5,\n",
    "        r\"собирать подписи\": 4.0,\n",
    "        r\"протест против\": 4.0,\n",
    "        r\"тысяч(и)? подписей\": 4.0,\n",
    "        r\"вышли пикет\": 4.0,\n",
    "        r\"вышли сход\": 4.0,\n",
    "        r\"записали видеообращение\": 4.0,\n",
    "        r\"акцию протеста\": 4.0,\n",
    "        r\"петицию c требованием\": 3.5,\n",
    "        r\"сбор подписей\": 4.0,\n",
    "        r\"одиночный пикет\": 4.0\n",
    "    }\n",
    "\n",
    "    # фразы не о протестах\n",
    "    non_protest_phrases = {\n",
    "        r\"вопреки протестам жителей\": -5.0,\n",
    "        r\"подал(а|и)? заявку на митинг\": -5.0,\n",
    "        r\"хотят устроить акцию\": -5.0,\n",
    "        r\"не (согласовали|разрешили) митинг\": -5.0,\n",
    "        r\"(согласовал(и|а)|разрешил(и|а)?) митинг\": -5.0,\n",
    "        r\"выйдут на митинг\": -5.0,\n",
    "        r\"запланировал(и)? митинг\": -5.0,\n",
    "        r\"заставили\\w+подписать\": -5.0,\n",
    "        r\"(поджог|поджег|подожгл(а|и))\\w+военкомат(а)?\": -5.0,\n",
    "        r\"после недовольства жителей\": -5.0,\n",
    "        r\"убрали стихийный мемориал\": -5.0,\n",
    "        r\"антивоенны\\s+ пост(ы)?\": -5.0,\n",
    "        r\"оштрафовали за пост(ы)?\": -5.0,\n",
    "        r\"несмотря на\\s+\\d+\\s+тысяч подписей\": -5.0,\n",
    "        r\"надеждин собрал больше\\s+\\d+\\s+тысяч подписей\": -5.0,\n",
    "        r\"власти\\s+\\d+\\s+остановили\\s+\\d+\\s+по просьбе жителей\": -5.0,\n",
    "        r\"из за забастовки\": -5.0,\n",
    "        r\"подводим итоги\": -5.0,\n",
    "        r\"давно жаловались\": -5.0,\n",
    "        r\"из за требований\": -5.0,\n",
    "        r\"вопреки мнению жителей\": -5.0,\n",
    "        r\"пост в канале\": -5.0,\n",
    "        r\"после видеообращения (к)? путину\": -5.0,\n",
    "        r\"власти опасаются акций протеста\": -5.0,\n",
    "        r\"раскритиковали\": -3.0\n",
    "    }\n",
    "\n",
    "    # ключевые слова о протестах\n",
    "    protest_keywords = {\n",
    "        r\"\\bмитинг\\b\": 2.5,\n",
    "        r\"\\bпикет\\b\": 2.5,\n",
    "        r\"\\bпетиция\\b\": 3.0,\n",
    "        r\"\\bзабастовка\\b\": 3.0,\n",
    "        r\"\\bпротест[а-я]*\\b\": 3.5,\n",
    "        r\"\\bжители\\b\": 2.5,\n",
    "        r\"\\bвозложить цветы\\b\": 3.0,\n",
    "        r\"\\bгубернатор\\b\": 1.5,\n",
    "        r\"\\bвласть\\b\": 1.5,\n",
    "        r\"\\bстроительство\\b\": 1.0,\n",
    "        r\"\\bпротив\\b\": 1.0,\n",
    "        r\"\\bзакрытие\\b\": 1.5\n",
    "    }\n",
    "\n",
    "    election_hashtags = [r\"#выборы(?:2024|24|__.*)?\"]\n",
    "    terrorism_keywords = [r\"крокус сити\", r\"теракт\", r\"сити холл\"]\n",
    "\n",
    "    score = 0.0\n",
    "\n",
    "    # проверяем на наличие протестных фраз\n",
    "    for pattern, weight in high_weight_phrases.items():\n",
    "        if re.search(pattern, message) or re.search(pattern, title):\n",
    "            score += weight\n",
    "\n",
    "    # проверяем на наличие фраз не о протестах\n",
    "    for pattern, weight in non_protest_phrases.items():\n",
    "        if re.search(pattern, message) or re.search(pattern, title):\n",
    "            score += weight\n",
    "\n",
    "    # проверяем по протестных словам\n",
    "    for pattern, weight in protest_keywords.items():\n",
    "        if re.search(pattern, message) or re.search(pattern, title):\n",
    "            score += weight\n",
    "\n",
    "    # понижаем значимость новостей о выборах (обычно не про протесты)\n",
    "    for pattern in election_hashtags:\n",
    "        if re.search(pattern, hashtags):\n",
    "            score -= 3.5 \n",
    "\n",
    "    # понижаем значимость новостей о теракте (обычно не про протесты)\n",
    "    for pattern in terrorism_keywords:\n",
    "        if re.search(pattern, message) or re.search(pattern, title):\n",
    "            score -= 3.5  \n",
    "\n",
    "    # подводим итог\n",
    "    return \"yes\" if score >= threshold else \"no\""
   ]
  },
  {
   "cell_type": "code",
   "execution_count": 101,
   "metadata": {},
   "outputs": [],
   "source": [
    "# применяем фильтр\n",
    "df['threshold 4.0'] = df.apply(protest_filter, axis=1)"
   ]
  },
  {
   "cell_type": "markdown",
   "metadata": {},
   "source": [
    "# Проверка фильтра"
   ]
  },
  {
   "cell_type": "code",
   "execution_count": 7,
   "metadata": {},
   "outputs": [
    {
     "data": {
      "text/plain": [
       "0.6047819971870605"
      ]
     },
     "execution_count": 7,
     "metadata": {},
     "output_type": "execute_result"
    }
   ],
   "source": [
    "labeled_data = df[df['theme by hand'].notna()]\n",
    "correct_predictions = (labeled_data['Refined_Filter'] == labeled_data['theme by hand']).sum()\n",
    "total_predictions = len(labeled_data)\n",
    "accuracy = correct_predictions / total_predictions\n",
    "\n",
    "accuracy"
   ]
  },
  {
   "cell_type": "markdown",
   "metadata": {},
   "source": [
    "# География протестов"
   ]
  },
  {
   "cell_type": "code",
   "execution_count": 116,
   "metadata": {},
   "outputs": [],
   "source": [
    "# по хэштегам определяем регион\n",
    "hashtag_to_region = {\n",
    "    \"адыгея\": \"Adygea\",\n",
    "    \"алтай\": \"Altai\",\n",
    "    \"алтайскийкрай\": \"Altai Krai\",\n",
    "    \"амурскаяобласть\": \"Amur Region\",\n",
    "    \"архангельскаяобласть\": \"Arkhangelsk Region\",\n",
    "    \"арханельскаяобласть\": \"Arkhangelsk Region\",\n",
    "    \"астраханскаяобласть\": \"Astrakhan Region\",\n",
    "    \"башкортостан\": \"Bashkortostan\",\n",
    "    \"белгородскаяобласть\": \"Belgorod Region\",\n",
    "    \"брянскаяобласть\": \"Bryansk Region\",\n",
    "    \"бурятия\": \"Buryatia\",\n",
    "    \"владимирскаяобласть\": \"Vladimir Region\",\n",
    "    \"волгоградскаяобласть\": \"Volgograd Region\",\n",
    "    \"вологодскаяобласть\": \"Vologda Region\",\n",
    "    \"воронежкаяобласть\": \"Voronezh Region\",\n",
    "    \"воронежскаяобласть\": \"Voronezh Region\",\n",
    "    \"дагестан\": \"Dagestan\",\n",
    "    \"еао\": \"Jewish Autonomous Region\",\n",
    "    \"забайкалье\": \"Zabaykalsky Krai\",\n",
    "    \"забайкальскийкрай\": \"Zabaykalsky Krai\",\n",
    "    \"ивановскаяобласть\": \"Ivanovo Region\",\n",
    "    \"ингушетия\": \"Ingushetia\",\n",
    "    \"иркутскаяобласть\": \"Irkutsk Region\",\n",
    "    \"ирткутскаяобласть\": \"Irkutsk Region\",\n",
    "    \"кабардинобалкария\": \"Kabardino-Balkaria\",\n",
    "    \"калининградскаяобласть\": \"Kaliningrad Region\",\n",
    "    \"калмыкия\": \"Kalmykia\",\n",
    "    \"калужскаяобласть\": \"Kaluga Region\",\n",
    "    \"камчатка\": \"Kamchatka Krai\",\n",
    "    \"камчатскийкрай\": \"Kamchatka Krai\",\n",
    "    \"карачаевочеркесия\": \"Karachay-Cherkessia\",\n",
    "    \"карелия\": \"Karelia\",\n",
    "    \"кбр\": \"Kabardino-Balkaria\",\n",
    "    \"кемеровскаяобласть\": \"Kemerovo Region\",\n",
    "    \"кировскаяобласть\": \"Kirov Region\",\n",
    "    \"коми\": \"Komi\",\n",
    "    \"костромскаяобласть\": \"Kostroma Region\",\n",
    "    \"краснодарскийкрай\": \"Krasnodar Krai\",\n",
    "    \"красноярскийкрай\": \"Krasnoyarsk Krai\",\n",
    "    \"курганскаяобласть\": \"Kurgan Region\",\n",
    "    \"курскаяобласть\": \"Kursk Region\",\n",
    "    \"ленинградскаяобласть\": \"Leningrad Region\",\n",
    "    \"липецкаяобласть\": \"Lipetsk Region\",\n",
    "    \"магаданскаяобласть\": \"Magadan Region\",\n",
    "    \"марийэл\": \"Mari El\",\n",
    "    \"мордовия\": \"Mordovia\",\n",
    "    \"москва\": \"Moscow\",\n",
    "    \"московскаяобласть\": \"Moscow Region\",\n",
    "    \"мурманскаяобласть\": \"Murmansk Region\",\n",
    "    \"нао\": \"Nenets Autonomous Okrug\",\n",
    "    \"нижегородскаяобласть\": \"Nizhny Novgorod Region\",\n",
    "    \"новгородскаяобласть\": \"Novgorod Region\",\n",
    "    \"новосибирскаяобласть\": \"Novosibirsk Region\",\n",
    "    \"омскаяобласть\": \"Omsk Region\",\n",
    "    \"оренбургскаяобласть\": \"Orenburg Region\",\n",
    "    \"орловскаяобласть\": \"Oryol Region\",\n",
    "    \"орловскаябласть\": \"Oryol Region\",\n",
    "    \"пензенскаяобласть\": \"Penza Region\",\n",
    "    \"пермскийкрай\": \"Perm Krai\",\n",
    "    \"приморскийкрай\": \"Primorsky Krai\",\n",
    "    \"псковскаяобласть\": \"Pskov Region\",\n",
    "    \"республикаалтай\": \"Republic of Altai\",\n",
    "    \"ростовскаяобласть\": \"Rostov Region\",\n",
    "    \"рязанскаяобласть\": \"Ryazan Region\",\n",
    "    \"самарскаяобласть\": \"Samara Region\",\n",
    "    \"санктпетербург\": \"Saint Petersburg\",\n",
    "    \"саратовскаяобласть\": \"Saratov Region\",\n",
    "    \"сахалин\": \"Sakhalin Region\",\n",
    "    \"сахалинскаяобласть\": \"Sakhalin Region\",\n",
    "    \"свердловскаяобласть\": \"Sverdlovsk Region\",\n",
    "    \"севернаяосетия\": \"North Ossetia\",\n",
    "    \"смоленскаяобласть\": \"Smolensk Region\",\n",
    "    \"ставрапольскийкрай\": \"Stavropol Krai\",\n",
    "    \"ставропольскийкрай\": \"Stavropol Krai\",\n",
    "    \"тамбовскаяобласть\": \"Tambov Region\",\n",
    "    \"татарстан\": \"Tatarstan\",\n",
    "    \"тверскаяобласть\": \"Tver Region\",\n",
    "    \"томскаяобласть\": \"Tomsk Region\",\n",
    "    \"тульскаяобласть\": \"Tula Region\",\n",
    "    \"тыва\": \"Tuva\",\n",
    "    \"тюменскаяобласть\": \"Tyumen Region\",\n",
    "    \"удмуртия\": \"Udmurtia\",\n",
    "    \"ульяновскаяобласть\": \"Ulyanovsk Region\",\n",
    "    \"хабаровскийкрай\": \"Khabarovsk Krai\",\n",
    "    \"хакасия\": \"Khakassia\",\n",
    "    \"хмао\": \"Khanty-Mansi Autonomous Okrug\",\n",
    "    \"челябинскаяобласть\": \"Chelyabinsk Region\",\n",
    "    \"чечня\": \"Chechnya\",\n",
    "    \"чувашия\": \"Chuvashia\",\n",
    "    \"чукотка\": \"Chukotka\",\n",
    "    \"якутия\": \"Sakha (Yakutia)\",\n",
    "    \"янао\": \"Yamalo-Nenets Autonomous Okrug\",\n",
    "    \"ярославскаяобласть\": \"Yaroslavl Region\"\n",
    "}\n",
    "\n",
    "# функция для определения региона\n",
    "def map_to_region(hashtags):\n",
    "    if pd.isna(hashtags):\n",
    "        return \"Unknown\"\n",
    "    for hashtag in hashtags.split(\",\"):\n",
    "        hashtag = hashtag.strip().lower()\n",
    "        if hashtag in hashtag_to_region:\n",
    "            return hashtag_to_region[hashtag]\n",
    "    return \"Other\""
   ]
  },
  {
   "cell_type": "code",
   "execution_count": 117,
   "metadata": {},
   "outputs": [],
   "source": [
    "df['geographic_region'] = df['hashtags'].apply(map_to_region)"
   ]
  }
 ],
 "metadata": {
  "kernelspec": {
   "display_name": "base",
   "language": "python",
   "name": "python3"
  },
  "language_info": {
   "codemirror_mode": {
    "name": "ipython",
    "version": 3
   },
   "file_extension": ".py",
   "mimetype": "text/x-python",
   "name": "python",
   "nbconvert_exporter": "python",
   "pygments_lexer": "ipython3",
   "version": "3.9.7"
  }
 },
 "nbformat": 4,
 "nbformat_minor": 2
}
