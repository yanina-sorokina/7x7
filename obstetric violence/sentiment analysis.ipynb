{
 "cells": [
  {
   "cell_type": "code",
   "execution_count": null,
   "id": "5bde907c",
   "metadata": {},
   "outputs": [],
   "source": [
    "import re\n",
    "import time\n",
    "import json\n",
    "import requests\n",
    "from collections import Counter\n",
    "from datetime import datetime, timedelta\n",
    "import itertools\n",
    "import pandas as pd\n",
    "import nltk\n",
    "from nltk.corpus import stopwords\n",
    "import re\n",
    "from tqdm import tqdm\n",
    "from pymorphy2 import MorphAnalyzer\n",
    "from collections import Counter\n",
    "from ruwordnet import RuWordNet\n"
   ]
  },
  {
   "cell_type": "markdown",
   "id": "d3ec054c",
   "metadata": {},
   "source": [
    "# Скачиваем посты группы ВК [Насилие в родах](https://vk.com/humanize_birth)"
   ]
  },
  {
   "cell_type": "code",
   "execution_count": null,
   "id": "6508dd43",
   "metadata": {},
   "outputs": [],
   "source": [
    "link = 'your_link_here'"
   ]
  },
  {
   "cell_type": "code",
   "execution_count": null,
   "id": "43bac2fc",
   "metadata": {},
   "outputs": [],
   "source": [
    "ACCESS_TOKEN = re.search(r'(?<=access_token=)[^&]+', link).group(0)\n",
    "GROUP_DOMAIN = 'humanize_birth'\n",
    "API_VERSION = '5.199'\n",
    "MAX_COUNT = 100  # VK limit per call"
   ]
  },
  {
   "cell_type": "code",
   "execution_count": null,
   "id": "84aaee5d",
   "metadata": {},
   "outputs": [],
   "source": [
    "def fetch_all_posts(group_domain):\n",
    "    \"\"\"Fetch all wall posts from the group\"\"\"\n",
    "    all_posts = pd.DataFrame()\n",
    "    offset = 0\n",
    "\n",
    "    while True:\n",
    "        params = {\n",
    "            'access_token': ACCESS_TOKEN,\n",
    "            'v': API_VERSION,\n",
    "            'domain': group_domain,\n",
    "            'offset': offset,\n",
    "            'count': MAX_COUNT,\n",
    "            'filter': 'owner'\n",
    "        }\n",
    "        response = requests.get('https://api.vk.com/method/wall.get', params=params).json()\n",
    "\n",
    "        # Check if there are no more posts to fetch\n",
    "        items = response.get('response', {}).get('items', [])\n",
    "        if not items:\n",
    "            break\n",
    "\n",
    "        for item in items:\n",
    "            epoch_time = item['date']\n",
    "            utc_plus_3_time = datetime.utcfromtimestamp(epoch_time) + timedelta(hours=3)\n",
    "            formatted_time = utc_plus_3_time.strftime('%Y-%m-%d %H:%M:%S')\n",
    "            all_posts = pd.concat([\n",
    "                all_posts,\n",
    "                pd.DataFrame([{\n",
    "                    'text': item.get('text', ''),\n",
    "                    'date': formatted_time,\n",
    "                    'id': item.get('id', ''),\n",
    "                    'signer_id': item.get('signer_id', None)\n",
    "                }])\n",
    "            ], ignore_index=True)\n",
    "\n",
    "        offset += MAX_COUNT  # Increment offset to fetch the next batch\n",
    "\n",
    "        # Optional: Add a delay to avoid hitting API rate limits\n",
    "        time.sleep(0.5)\n",
    "\n",
    "    return all_posts"
   ]
  },
  {
   "cell_type": "code",
   "execution_count": null,
   "id": "4ea235ae",
   "metadata": {},
   "outputs": [],
   "source": [
    "data = fetch_all_posts(GROUP_DOMAIN)\n",
    "data.to_csv('humanize_birth_testimonies.csv', index=False)"
   ]
  },
  {
   "cell_type": "markdown",
   "id": "c87412ab",
   "metadata": {},
   "source": [
    "## Осмотр данных"
   ]
  },
  {
   "cell_type": "code",
   "execution_count": null,
   "id": "7593c71d",
   "metadata": {},
   "outputs": [],
   "source": [
    "violence = pd.read_csv('../data/obstetric violence categories.csv')\n",
    "data = pd.read_csv('../output/humanize_birth_testimonies.csv')"
   ]
  },
  {
   "cell_type": "code",
   "execution_count": null,
   "id": "a26482ad",
   "metadata": {},
   "outputs": [],
   "source": [
    "data['text'] = data['text'].astype(str)\n",
    "data['text'] = data['text'].str.replace(r'\\n', '', regex=True)\n",
    "# data['text'] = data['text'].str.replace(r'\\s+', '', regex=True)\n",
    "data['post_length'] = data['text'].apply(lambda x: len(str(x).split()))"
   ]
  },
  {
   "cell_type": "code",
   "execution_count": null,
   "id": "2e82b310",
   "metadata": {},
   "outputs": [],
   "source": [
    "# Extract the list of hashtags from the violence DataFrame\n",
    "violence_hashtags = violence['hashtag'].tolist()\n",
    "\n",
    "# Function to extract matching hashtags from a post\n",
    "def extract_hashtags(post_text):\n",
    "    if not isinstance(post_text, str):  # Ensure the input is a string\n",
    "        return []\n",
    "    return [hashtag for hashtag in re.findall(r'#\\w+', post_text) if hashtag in violence_hashtags]\n",
    "\n",
    "# Apply the function to the 'text' column and create a new column for matching hashtags\n",
    "data['hashtags'] = data['text'].apply(extract_hashtags)\n",
    "data['hashtags'] = data['hashtags'].apply(lambda x: None if isinstance(x, list) and not x else x)\n",
    "\n",
    "# Display the updated DataFrame\n",
    "data[['text', 'hashtags']].head()"
   ]
  },
  {
   "cell_type": "code",
   "execution_count": null,
   "id": "900b9188",
   "metadata": {
    "vscode": {
     "languageId": "ruby"
    }
   },
   "outputs": [],
   "source": [
    "# Function to find the type of violence for each post\n",
    "hashtag_to_category = dict(zip(violence['hashtag'], violence['category']))\n",
    "\n",
    "def find_violence_type(post_hashtags):\n",
    "    if not post_hashtags:\n",
    "        return None\n",
    "    categories = {hashtag_to_category[hashtag] for hashtag in post_hashtags if hashtag in hashtag_to_category}\n",
    "    return ', '.join(categories) if categories else None\n",
    "\n",
    "data['violence_type'] = data['hashtags'].apply(find_violence_type)"
   ]
  },
  {
   "cell_type": "markdown",
   "id": "5153eb4d",
   "metadata": {},
   "source": [
    "# Выделяем эмоции в постах [Насилие в родах](https://vk.com/humanize_birth)"
   ]
  },
  {
   "cell_type": "code",
   "execution_count": null,
   "id": "4e506e27",
   "metadata": {},
   "outputs": [],
   "source": [
    "russian_stopwords = set(stopwords.words(\"russian\"))\n",
    "morph = MorphAnalyzer()\n",
    "nltk.download('punkt')\n",
    "tqdm.pandas()\n",
    "wn = RuWordNet()"
   ]
  },
  {
   "cell_type": "code",
   "execution_count": null,
   "id": "8befd058",
   "metadata": {},
   "outputs": [],
   "source": [
    "df = pd.read_csv('../output/detailed_data_with_emotions.csv')\n",
    "# violence = pd.read_csv('../output/obstetric violence categories.csv')"
   ]
  },
  {
   "cell_type": "code",
   "execution_count": null,
   "id": "dc1dc33b",
   "metadata": {},
   "outputs": [],
   "source": [
    "# Replace all occurrences of 'non-physical' in the 'violence_type' column with 'psychological'\n",
    "df['violence_type'] = df['violence_type'].str.replace('non-physical', 'psychological', regex=False)"
   ]
  },
  {
   "cell_type": "markdown",
   "id": "6174d42a",
   "metadata": {},
   "source": [
    "## Словарь эмоций"
   ]
  },
  {
   "cell_type": "code",
   "execution_count": null,
   "id": "6a049c28",
   "metadata": {},
   "outputs": [],
   "source": [
    "# Словарь для определения эмоций, созданный на основе синонимов из RuWordNet и ручного редактирования\n",
    "emotion_lexicon = {\n",
    "    'стыд': {'виноватый', 'вина', 'унижение','униженность', 'позор', 'стыд', 'клеймо', 'смущенность', 'пристыженный', 'смущение', 'стыдоба', 'смутить', 'сконфузить', 'оконфузить', 'конфузить', 'оконфуживать', 'стыдливость', 'смущать', 'позорище', 'бесчестье', 'стыдно', 'позор', 'пятно'},\n",
    "    'страх': {'истерика', 'нервничать', 'жуть', 'болевой', 'панический', 'волнение', 'стресс', 'запугивание', 'ад','бояться','страх', 'чувство волнения', 'тревога', 'кошмарные обстоятельства', 'жуть', 'страшенный', 'боязнь', 'тревога', 'волнение', 'ажитация', 'ужас', 'беспокойность', 'встревоженность', 'мрак', 'жуткий', 'взволнованность', 'треволнение', 'беспокойство', 'страшный', 'страх', 'обеспокоенность', 'паника', 'тревожность', 'ужас', 'опасение'},\n",
    "    'боль': {'удар', 'мучиться', 'дискомфорт', 'скулить', 'выть', 'мучаться', 'болевой', 'жечь', 'голод', 'изжога', 'жжение', 'пытка', 'мука','плакать','рана', 'боль', 'болевой', 'разболеться', 'переболеть', 'болевое ощущение', 'нестерпимый', 'рана души', 'болеть', 'страдание', 'нездоровый', 'поболеть', 'слабенький', 'заболеть', 'приболеть', 'нездоровиться', 'хворать', 'заболевать', 'слабый', 'побаливать', 'страдание', 'проболеть', 'похварывать', 'недомогать', 'мука', 'нещадный', 'невыносимый', 'мучение', 'болезненный', 'слабоватый', 'прихварывать', 'мученичество', 'ослабелый', 'больно', 'боль', 'непереносимый'},\n",
    "    'злость': {'ненависть', 'злость', 'злоба', 'гнев', 'озлобленность', 'злоба', 'злость', 'ожесточение', 'агрессивность', 'раздраженность', 'остервенелость', 'агрессия', 'бешенство', 'неистовость', 'озлобление', 'яростность', 'злобность', 'ярость', 'раздражение', 'ожесточенность', 'ополчать'},\n",
    "    'одиночество': {'непонимание', 'безразличный', 'одиночество', 'беспомощность', 'никто', 'изолированность', 'изоляция', 'изолирование', 'отчуждение собственности', 'один'},\n",
    "    'грусть': {'реветь', 'подвывать', 'навзрыд', 'отчаяние', 'расплакаться', 'безысходность', 'грустно','грустить', 'расстройство', 'тоскливость', 'взгрустнуть', 'грустноватый', 'грусть', 'минор', 'скисать', 'опечалиться', 'огорчение', 'тоска', 'опечаливаться', 'грустный', 'погрустить', 'невеселый', 'печальный', 'печаль', 'печалиться', 'погрустнеть', 'сокрушенный', 'хандра', 'грустить', 'меланхолия', 'скиснуть', 'нерадостный', 'загрустить', 'депрессия'},\n",
    "    'радость': {'наслаждаться','улыбаться', 'радоваться', 'поздравлять', 'счастье', 'восторг', 'восхититься', 'нарадоваться', 'восхищение', 'порадоваться', 'радость', 'восторженный', 'восторгаться', 'обрадоваться', 'праздник', 'отрада', 'радоваться', 'возрадоваться', 'восхищаться', 'радостный'},\n",
    "    'спокойствие': {'облегчение', 'спокойно', 'приветливый', 'добродушный', 'подбадривать', 'спокойный', 'спокойствие', 'умиротворенный', 'умиротворить', 'умиротворение', 'покой', 'умиротворять', 'равновесие'},\n",
    "    'унижение': {'пренебрежение', 'оскорбление', 'осуждение', 'униженность', 'уничижить', 'срамиться', 'стыд', 'клеймо', 'оскандалиться', 'уничижать', 'стыдоба', 'опозориться', 'запачкаться', 'принизить', 'унижение', 'осрамиться', 'пощечина', 'принижение', 'замараться', 'унижать', 'самоуничижение', 'уничижение', 'самоунижение', 'унизить', 'позорище', 'бесчестье', 'позориться', 'пятно', 'принижать', 'позор'}#,\n",
    "    # 'отвращение': {'раздражать', 'противно', 'покоробить', 'отвратить', 'отвращать', 'ужасный', 'пренеприятный', 'отпихнуть', 'омерзение', 'отталкивать', 'мерзкий', 'чудовищный', 'отвратительный', 'отпугнуть', 'отпугивать', 'упредить', 'претить', 'тошный', 'жутчайший', 'поганый', 'предотвращать', 'отталкивающий', 'мерзостный', 'жуткий', 'пакостный', 'фиговый', 'оттолкнуть', 'безобразный', 'пренеприятнейший', 'омерзительный', 'отпихивать', 'гнусный', 'предотвратить', 'гадкий', 'предупреждать', 'отвратный', 'дерьмовый', 'мерзопакостный', 'малоприятный', 'тошнота', 'отвращение', 'отстойный', 'противный', 'неприятный', 'коробить', 'паскудный', 'тошнотворный', 'гадостный', 'скверный'},\n",
    "    # 'разочарование': {'расстройство', 'огорчение', 'разочарование', 'разочарованность', 'минорное настроение'},\n",
    "    # 'беспомощность': {'беспомощность', 'неспособный защитить себя', 'беззащитный', 'беспомощный', 'беззащитность'},\n",
    "    # 'недовольный': {'недовольный', 'недовольство', 'неудовольствие'},\n",
    "    # 'агрессия': {'обозвать','обзывать', 'агрессия', 'агрессивное состояние', 'агрессивный', 'агрессивность'},\n",
    "}"
   ]
  },
  {
   "cell_type": "code",
   "execution_count": null,
   "id": "48cbc40c",
   "metadata": {},
   "outputs": [],
   "source": [
    "# Adding synonyms from RuWordNet dynamically\n",
    "def extend_lexicon_with_ruwordnet(emotion, words):\n",
    "    for word in words:\n",
    "        new_synonyms = set()  # Temporary set to collect new synonyms\n",
    "        for sense in wn.get_senses(word):\n",
    "            synonyms = [synonym.name for synonym in sense.synset.senses]\n",
    "            new_synonyms.update(synonyms)\n",
    "        emotion_lexicon[emotion].update(new_synonyms)  # Update the original set after iteration\n",
    "\n",
    "# Extend lexicon for all emotions\n",
    "for key in list(emotion_lexicon.keys()):  # Create a copy of the keys to avoid modifying the dictionary during iteration\n",
    "    extend_lexicon_with_ruwordnet(key, list(emotion_lexicon[key]))  # Pass a copy of the set to avoid runtime errors"
   ]
  },
  {
   "cell_type": "code",
   "execution_count": null,
   "id": "f79e20eb",
   "metadata": {},
   "outputs": [],
   "source": [
    "emotion_lexicon.items()"
   ]
  },
  {
   "cell_type": "markdown",
   "id": "180ac953",
   "metadata": {},
   "source": [
    "## Считаем эмоции в постах"
   ]
  },
  {
   "cell_type": "code",
   "execution_count": null,
   "id": "e084cd8c",
   "metadata": {},
   "outputs": [],
   "source": [
    "# Drop rows with NaN in 'violence_type' before applying the filter\n",
    "df = df.loc[~df['violence_type'].str.contains('admin')]"
   ]
  },
  {
   "cell_type": "code",
   "execution_count": null,
   "id": "bcb6dd60",
   "metadata": {},
   "outputs": [],
   "source": [
    "df['clean_text'] = df['text'].str.replace(r'#[\\w_]+(@humanize_birth)', ' ', regex=True)\n",
    "df['clean_text'] = df['clean_text'].str.replace(r'#[\\w_]+', ' ', regex=True)\n",
    "# df.loc[df['id'] == 2553, 'clean_text'].to_clipboard()"
   ]
  },
  {
   "cell_type": "code",
   "execution_count": null,
   "id": "bbf2c486",
   "metadata": {},
   "outputs": [],
   "source": [
    "def preprocess(text):\n",
    "    text = re.sub(r'[^а-яА-ЯёЁ\\s]', ' ', text.lower())\n",
    "    text = re.sub(r'\\s{2,}', ' ', text.lower())\n",
    "    tokens = nltk.word_tokenize(text, language='russian')\n",
    "    lemmas = [morph.parse(word)[0].normal_form for word in tokens if word.isalpha()]\n",
    "    lemmas = [word for word in lemmas if word not in russian_stopwords and len(word) > 1]\n",
    "    return lemmas\n",
    "\n",
    "df['lemmas'] = df['clean_text'].progress_apply(preprocess)"
   ]
  },
  {
   "cell_type": "code",
   "execution_count": null,
   "id": "814c6050",
   "metadata": {},
   "outputs": [],
   "source": [
    "def emotion_share(lemmas):\n",
    "    total = len(lemmas)\n",
    "    counts = {emotion: 0 for emotion in emotion_lexicon}\n",
    "    \n",
    "    for lemma in lemmas:\n",
    "        for emotion, word_set in emotion_lexicon.items():\n",
    "            if lemma in word_set:\n",
    "                counts[emotion] += 1\n",
    "    \n",
    "    # Convert counts to shares\n",
    "    if total == 0:\n",
    "        shares = {emotion: 0.0 for emotion in emotion_lexicon}\n",
    "    else:\n",
    "        shares = {emotion: count / total for emotion, count in counts.items()}\n",
    "    \n",
    "    return shares\n",
    "\n",
    "df['emotion_shares'] = df['lemmas'].progress_apply(emotion_share)"
   ]
  },
  {
   "cell_type": "markdown",
   "id": "b4dc65a9",
   "metadata": {},
   "source": [
    "## Визуализируем эмоции"
   ]
  },
  {
   "cell_type": "code",
   "execution_count": null,
   "id": "1825d51b",
   "metadata": {},
   "outputs": [],
   "source": [
    "import matplotlib.pyplot as plt\n",
    "\n",
    "emotion_columns = list(emotion_lexicon.keys())\n",
    "df[emotion_columns] = df['emotion_shares'].apply(pd.Series)\n",
    "emotion_df = df[emotion_columns]\n",
    "\n",
    "# Calculate the mean of each emotion\n",
    "mean_emotions = emotion_df.mean().sort_values(ascending=True)\n",
    "\n",
    "# Plot the results\n",
    "mean_emotions.plot(kind='barh', color='tomato')\n",
    "plt.ylabel(\"Доля эмоции от всех слов в посте\")\n",
    "plt.xlabel(\"Эмоция\")\n",
    "plt.title(\"Эмоции в группе  'Насилие в родах'\")\n",
    "plt.tight_layout()\n",
    "plt.show()\n"
   ]
  },
  {
   "cell_type": "code",
   "execution_count": null,
   "id": "c5d29f12",
   "metadata": {},
   "outputs": [],
   "source": [
    "# Preparing data for co-occurence of hashtags and violence types\n",
    "psychological_tags = [\n",
    "    '#ирония_унижение_обесценивание',\n",
    "    '#игнор_просьб_о_помощи',\n",
    "    '#игнор_боли',\n",
    "    '#вопреки_отказу',\n",
    "    '#сознательная_дезинформация_обман',\n",
    "    '#принуждение_к_кесареву_сечению',\n",
    "]\n",
    "\n",
    "physical_tags = [\n",
    "    '#нельзя_свободно_двигаться',\n",
    "    '#кесарево_сечение',\n",
    "    '#болезненный_осмотр',\n",
    "    '#выдавливание_кристеллер',\n",
    "    '#прокол_пузыря',\n",
    "    '#стимуляция_и_принуждение_к_ней',\n",
    "    '#ручное_открытие_шейки',\n",
    "    '#швы_на_живую',\n",
    "    '#швы_наживую',\n",
    "    '#эпизиотомия'\n",
    "]\n",
    "\n",
    "all_tags = psychological_tags + physical_tags\n",
    "\n",
    "# Ensure df['hashtags'] is a list\n",
    "df['hashtags'] = df['hashtags'].apply(lambda x: eval(x) if isinstance(x, str) else x)\n",
    "\n",
    "# Create binary columns for each hashtag\n",
    "for tag in all_tags:\n",
    "    df[tag] = df['hashtags'].apply(lambda tags: int(tag in tags))\n",
    "\n",
    "\n",
    "# Subset to only the relevant columns\n",
    "psychological_df = df[psychological_tags]\n",
    "physical_df = df[physical_tags]\n",
    "\n",
    "co_occurrence_matrix = psychological_df.T.dot(physical_df)\n",
    "\n",
    "# Save or inspect the matrix\n",
    "co_occurrence_matrix.to_csv(\"cooccurrence_matrix_psych_vs_phys.csv\")\n",
    "\n",
    "# Optional: Normalize\n",
    "# co_occurrence.to_csv('hashtag_heatmap.csv')\n"
   ]
  },
  {
   "cell_type": "code",
   "execution_count": null,
   "id": "b51d6229",
   "metadata": {},
   "outputs": [],
   "source": [
    "psychological_df.sum()"
   ]
  },
  {
   "cell_type": "code",
   "execution_count": null,
   "id": "40705a88",
   "metadata": {},
   "outputs": [],
   "source": [
    "physical_df.sum()"
   ]
  },
  {
   "cell_type": "code",
   "execution_count": null,
   "id": "09eaee0e",
   "metadata": {},
   "outputs": [],
   "source": [
    "co_occurrence_matrix\n",
    "# .to_csv('../output/data for graphs/co_occurrence_matrix.csv')"
   ]
  },
  {
   "cell_type": "code",
   "execution_count": null,
   "id": "c985933a",
   "metadata": {},
   "outputs": [],
   "source": [
    "# Extract emotion columns\n",
    "emotion_columns = list(emotion_lexicon.keys())\n",
    "emotion_df = df[emotion_columns]\n",
    "\n",
    "# Melt the DataFrame to long format\n",
    "df_melted = emotion_df.reset_index().melt(id_vars=['index'], var_name='Emotion', value_name='Share')\n",
    "\n",
    "# Filter values to ensure X-axis ranges from 0.0 to 1.0\n",
    "df_melted = df_melted[(df_melted['Share'] >= 0.0) & (df_melted['Share'] <= 1.0)]\n",
    "\n",
    "# Display the prepared dataset\n",
    "df_melted.head()\n"
   ]
  },
  {
   "cell_type": "code",
   "execution_count": null,
   "id": "d3a3b1c3",
   "metadata": {},
   "outputs": [],
   "source": [
    "import seaborn as sns\n",
    "import matplotlib.pyplot as plt\n",
    "\n",
    "# Create a beeswarm plot with emotions on the Y-axis and share on the X-axis\n",
    "plt.figure(figsize=(12, 6))\n",
    "sns.swarmplot(data=df_melted, y='Emotion', x='Share', size=3, palette='viridis', orient='h')\n",
    "\n",
    "# Customize the plot\n",
    "plt.title(\"Beeswarm Plot of Emotion Shares\")\n",
    "plt.ylabel(\"Emotion\")\n",
    "plt.xlabel(\"Share\")\n",
    "plt.tight_layout()\n",
    "\n",
    "# Show the plot\n",
    "plt.show()\n"
   ]
  },
  {
   "cell_type": "code",
   "execution_count": null,
   "id": "13f3ffa6",
   "metadata": {},
   "outputs": [],
   "source": [
    "from matplotlib_venn import venn2\n",
    "\n",
    "import matplotlib.pyplot as plt\n",
    "\n",
    "# Calculate the sets\n",
    "set_physical = set(df[df['violence_type'].str.contains('physical violence', na=False)].index)\n",
    "set_non_physical = set(df[df['violence_type'].str.contains('psychological violence', na=False)].index)\n",
    "\n",
    "# Create the Venn diagram\n",
    "plt.figure(figsize=(8, 6))\n",
    "venn2([set_physical, set_non_physical], ('Физическое насилие', 'Психологическое насилие'))\n",
    "\n",
    "# Add title and show the plot\n",
    "plt.title(\"Акушерское насилие не ограничивается психологическим насилием\")\n",
    "plt.show()"
   ]
  },
  {
   "cell_type": "markdown",
   "id": "9f123868",
   "metadata": {},
   "source": [
    "## Проверяем эмоции в постах"
   ]
  },
  {
   "cell_type": "code",
   "execution_count": null,
   "id": "8219b017",
   "metadata": {},
   "outputs": [],
   "source": [
    "# Calculate the total emotion shares for each post\n",
    "emotion_columns = list(emotion_lexicon.keys())\n",
    "emotion_df = df[emotion_columns]\n",
    "df['total_emotion_shares'] = df[emotion_columns].sum(axis=1)\n",
    "\n",
    "# Count the number of posts with total emotion shares equal to 0\n",
    "zero_emotion_posts = (df['total_emotion_shares'] == 0).sum()\n",
    "print(f\"Number of posts with total emotion shares equal to 0: {zero_emotion_posts}\")"
   ]
  },
  {
   "cell_type": "code",
   "execution_count": null,
   "id": "dade690d",
   "metadata": {},
   "outputs": [],
   "source": [
    "emotion_df.describe()"
   ]
  },
  {
   "cell_type": "code",
   "execution_count": null,
   "id": "12f9bc28",
   "metadata": {},
   "outputs": [],
   "source": [
    "# emotion_columns = list(emotion_lexicon.keys())\n",
    "emotion_columns.append('id')\n",
    "emotion_columns.append('total_emotion_shares')\n",
    "emotion_columns\n",
    "emotion_df = df[emotion_columns]\n",
    "emotion_df"
   ]
  },
  {
   "cell_type": "code",
   "execution_count": null,
   "id": "b5db5f50",
   "metadata": {},
   "outputs": [],
   "source": [
    "# Select the five largest emotions based on their mean values\n",
    "top_5_emotions = mean_emotions.nlargest(5)\n",
    "\n",
    "# Plot the bar chart\n",
    "top_5_emotions.plot(kind='bar', color='skyblue', edgecolor='black')\n",
    "plt.ylabel(\"Mean Share\")\n",
    "plt.xlabel(\"Emotion\")\n",
    "plt.title(\"Top 5 Largest Emotions\")\n",
    "plt.tight_layout()\n",
    "plt.show()"
   ]
  },
  {
   "cell_type": "code",
   "execution_count": null,
   "id": "389bc0dc",
   "metadata": {},
   "outputs": [],
   "source": [
    "from collections import Counter\n",
    "\n",
    "# Flatten the list of hashtags and count occurrences\n",
    "all_hashtags = [hashtag for hashtags in df['hashtags'] for hashtag in eval(hashtags)]\n",
    "hashtag_counts = Counter(all_hashtags)\n",
    "\n",
    "# Get the top unique hashtags\n",
    "top_hashtags = hashtag_counts.most_common(11)  # Adjust the number as needed\n",
    "print(top_hashtags)"
   ]
  },
  {
   "cell_type": "markdown",
   "id": "33e15c09",
   "metadata": {},
   "source": [
    "# Сохраняем данные"
   ]
  },
  {
   "cell_type": "code",
   "execution_count": null,
   "id": "18f17722",
   "metadata": {},
   "outputs": [],
   "source": [
    "df.to_csv('../output/detailed_data_with_emotions.csv', index=False)"
   ]
  },
  {
   "cell_type": "code",
   "execution_count": null,
   "id": "5896d461",
   "metadata": {},
   "outputs": [],
   "source": [
    "emotion_df.to_csv('../output/emotion_df.csv', index=False)"
   ]
  },
  {
   "cell_type": "code",
   "execution_count": null,
   "id": "20d20068",
   "metadata": {},
   "outputs": [],
   "source": [
    "mean_emotions.to_csv('../output/mean_emotions.csv', index=False)"
   ]
  }
 ],
 "metadata": {
  "kernelspec": {
   "display_name": "APIs-v8A237SD",
   "language": "python",
   "name": "python3"
  },
  "language_info": {
   "codemirror_mode": {
    "name": "ipython",
    "version": 3
   },
   "file_extension": ".py",
   "mimetype": "text/x-python",
   "name": "python",
   "nbconvert_exporter": "python",
   "pygments_lexer": "ipython3",
   "version": "3.9.21"
  }
 },
 "nbformat": 4,
 "nbformat_minor": 5
}
