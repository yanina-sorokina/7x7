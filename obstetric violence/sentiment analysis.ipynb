{
 "cells": [
  {
   "cell_type": "code",
   "execution_count": null,
   "id": "5bde907c",
   "metadata": {},
   "outputs": [],
   "source": [
    "import re\n",
    "import time\n",
    "import json\n",
    "import requests\n",
    "from collections import Counter\n",
    "from datetime import datetime, timedelta\n",
    "import itertools\n",
    "import pandas as pd\n",
    "import nltk\n",
    "from nltk.corpus import stopwords\n",
    "import re\n",
    "from tqdm import tqdm\n",
    "from pymorphy2 import MorphAnalyzer\n",
    "from collections import Counter\n",
    "from ruwordnet import RuWordNet\n"
   ]
  },
  {
   "cell_type": "markdown",
   "id": "d3ec054c",
   "metadata": {},
   "source": [
    "# Скачиваем посты группы ВК [Насилие в родах](https://vk.com/humanize_birth)"
   ]
  },
  {
   "cell_type": "code",
   "execution_count": null,
   "id": "6508dd43",
   "metadata": {},
   "outputs": [],
   "source": [
    "link = 'your_link_here'"
   ]
  },
  {
   "cell_type": "code",
   "execution_count": null,
   "id": "43bac2fc",
   "metadata": {},
   "outputs": [],
   "source": [
    "ACCESS_TOKEN = re.search(r'(?<=access_token=)[^&]+', link).group(0)\n",
    "GROUP_DOMAIN = 'humanize_birth'\n",
    "API_VERSION = '5.199'\n",
    "MAX_COUNT = 100  # VK limit per call"
   ]
  },
  {
   "cell_type": "code",
   "execution_count": null,
   "id": "84aaee5d",
   "metadata": {},
   "outputs": [],
   "source": [
    "def fetch_all_posts(group_domain):\n",
    "    \"\"\"Fetch all wall posts from the group\"\"\"\n",
    "    all_posts = pd.DataFrame()\n",
    "    offset = 0\n",
    "\n",
    "    while True:\n",
    "        params = {\n",
    "            'access_token': ACCESS_TOKEN,\n",
    "            'v': API_VERSION,\n",
    "            'domain': group_domain,\n",
    "            'offset': offset,\n",
    "            'count': MAX_COUNT,\n",
    "            'filter': 'owner'\n",
    "        }\n",
    "        response = requests.get('https://api.vk.com/method/wall.get', params=params).json()\n",
    "\n",
    "        # Check if there are no more posts to fetch\n",
    "        items = response.get('response', {}).get('items', [])\n",
    "        if not items:\n",
    "            break\n",
    "\n",
    "        for item in items:\n",
    "            epoch_time = item['date']\n",
    "            utc_plus_3_time = datetime.utcfromtimestamp(epoch_time) + timedelta(hours=3)\n",
    "            formatted_time = utc_plus_3_time.strftime('%Y-%m-%d %H:%M:%S')\n",
    "            all_posts = pd.concat([\n",
    "                all_posts,\n",
    "                pd.DataFrame([{\n",
    "                    'text': item.get('text', ''),\n",
    "                    'date': formatted_time,\n",
    "                    'id': item.get('id', ''),\n",
    "                    'signer_id': item.get('signer_id', None)\n",
    "                }])\n",
    "            ], ignore_index=True)\n",
    "\n",
    "        offset += MAX_COUNT  # Increment offset to fetch the next batch\n",
    "\n",
    "        # Optional: Add a delay to avoid hitting API rate limits\n",
    "        time.sleep(0.5)\n",
    "\n",
    "    return all_posts"
   ]
  },
  {
   "cell_type": "code",
   "execution_count": null,
   "id": "4ea235ae",
   "metadata": {},
   "outputs": [],
   "source": [
    "data = fetch_all_posts(GROUP_DOMAIN)\n",
    "data.to_csv('humanize_birth_testimonies.csv', index=False)"
   ]
  },
  {
   "cell_type": "markdown",
   "id": "c87412ab",
   "metadata": {},
   "source": [
    "## Осмотр данных"
   ]
  },
  {
   "cell_type": "code",
   "execution_count": null,
   "id": "7593c71d",
   "metadata": {},
   "outputs": [
    {
     "ename": "ParserError",
     "evalue": "Error tokenizing data. C error: Calling read(nbytes) on source failed. Try engine='python'.",
     "output_type": "error",
     "traceback": [
      "\u001b[0;31m---------------------------------------------------------------------------\u001b[0m\n",
      "\u001b[0;31mParserError\u001b[0m                               Traceback (most recent call last)\n",
      "Cell \u001b[0;32mIn[3], line 2\u001b[0m\n",
      "\u001b[1;32m      1\u001b[0m \u001b[38;5;66;03m# violence = pd.read_csv('../data/obstetric violence categories.csv')\u001b[39;00m\n",
      "\u001b[0;32m----> 2\u001b[0m data \u001b[38;5;241m=\u001b[39m \u001b[43mpd\u001b[49m\u001b[38;5;241;43m.\u001b[39;49m\u001b[43mread_csv\u001b[49m\u001b[43m(\u001b[49m\u001b[38;5;124;43m'\u001b[39;49m\u001b[38;5;124;43m../output/humanize_birth_testimonies.csv\u001b[39;49m\u001b[38;5;124;43m'\u001b[39;49m\u001b[43m)\u001b[49m\n",
      "\n",
      "File \u001b[0;32m~/.local/share/virtualenvs/APIs-v8A237SD/lib/python3.9/site-packages/pandas/io/parsers/readers.py:1026\u001b[0m, in \u001b[0;36mread_csv\u001b[0;34m(filepath_or_buffer, sep, delimiter, header, names, index_col, usecols, dtype, engine, converters, true_values, false_values, skipinitialspace, skiprows, skipfooter, nrows, na_values, keep_default_na, na_filter, verbose, skip_blank_lines, parse_dates, infer_datetime_format, keep_date_col, date_parser, date_format, dayfirst, cache_dates, iterator, chunksize, compression, thousands, decimal, lineterminator, quotechar, quoting, doublequote, escapechar, comment, encoding, encoding_errors, dialect, on_bad_lines, delim_whitespace, low_memory, memory_map, float_precision, storage_options, dtype_backend)\u001b[0m\n",
      "\u001b[1;32m   1013\u001b[0m kwds_defaults \u001b[38;5;241m=\u001b[39m _refine_defaults_read(\n",
      "\u001b[1;32m   1014\u001b[0m     dialect,\n",
      "\u001b[1;32m   1015\u001b[0m     delimiter,\n",
      "\u001b[0;32m   (...)\u001b[0m\n",
      "\u001b[1;32m   1022\u001b[0m     dtype_backend\u001b[38;5;241m=\u001b[39mdtype_backend,\n",
      "\u001b[1;32m   1023\u001b[0m )\n",
      "\u001b[1;32m   1024\u001b[0m kwds\u001b[38;5;241m.\u001b[39mupdate(kwds_defaults)\n",
      "\u001b[0;32m-> 1026\u001b[0m \u001b[38;5;28;01mreturn\u001b[39;00m \u001b[43m_read\u001b[49m\u001b[43m(\u001b[49m\u001b[43mfilepath_or_buffer\u001b[49m\u001b[43m,\u001b[49m\u001b[43m \u001b[49m\u001b[43mkwds\u001b[49m\u001b[43m)\u001b[49m\n",
      "\n",
      "File \u001b[0;32m~/.local/share/virtualenvs/APIs-v8A237SD/lib/python3.9/site-packages/pandas/io/parsers/readers.py:626\u001b[0m, in \u001b[0;36m_read\u001b[0;34m(filepath_or_buffer, kwds)\u001b[0m\n",
      "\u001b[1;32m    623\u001b[0m     \u001b[38;5;28;01mreturn\u001b[39;00m parser\n",
      "\u001b[1;32m    625\u001b[0m \u001b[38;5;28;01mwith\u001b[39;00m parser:\n",
      "\u001b[0;32m--> 626\u001b[0m     \u001b[38;5;28;01mreturn\u001b[39;00m \u001b[43mparser\u001b[49m\u001b[38;5;241;43m.\u001b[39;49m\u001b[43mread\u001b[49m\u001b[43m(\u001b[49m\u001b[43mnrows\u001b[49m\u001b[43m)\u001b[49m\n",
      "\n",
      "File \u001b[0;32m~/.local/share/virtualenvs/APIs-v8A237SD/lib/python3.9/site-packages/pandas/io/parsers/readers.py:1923\u001b[0m, in \u001b[0;36mTextFileReader.read\u001b[0;34m(self, nrows)\u001b[0m\n",
      "\u001b[1;32m   1916\u001b[0m nrows \u001b[38;5;241m=\u001b[39m validate_integer(\u001b[38;5;124m\"\u001b[39m\u001b[38;5;124mnrows\u001b[39m\u001b[38;5;124m\"\u001b[39m, nrows)\n",
      "\u001b[1;32m   1917\u001b[0m \u001b[38;5;28;01mtry\u001b[39;00m:\n",
      "\u001b[1;32m   1918\u001b[0m     \u001b[38;5;66;03m# error: \"ParserBase\" has no attribute \"read\"\u001b[39;00m\n",
      "\u001b[1;32m   1919\u001b[0m     (\n",
      "\u001b[1;32m   1920\u001b[0m         index,\n",
      "\u001b[1;32m   1921\u001b[0m         columns,\n",
      "\u001b[1;32m   1922\u001b[0m         col_dict,\n",
      "\u001b[0;32m-> 1923\u001b[0m     ) \u001b[38;5;241m=\u001b[39m \u001b[38;5;28;43mself\u001b[39;49m\u001b[38;5;241;43m.\u001b[39;49m\u001b[43m_engine\u001b[49m\u001b[38;5;241;43m.\u001b[39;49m\u001b[43mread\u001b[49m\u001b[43m(\u001b[49m\u001b[43m  \u001b[49m\u001b[38;5;66;43;03m# type: ignore[attr-defined]\u001b[39;49;00m\n",
      "\u001b[1;32m   1924\u001b[0m \u001b[43m        \u001b[49m\u001b[43mnrows\u001b[49m\n",
      "\u001b[1;32m   1925\u001b[0m \u001b[43m    \u001b[49m\u001b[43m)\u001b[49m\n",
      "\u001b[1;32m   1926\u001b[0m \u001b[38;5;28;01mexcept\u001b[39;00m \u001b[38;5;167;01mException\u001b[39;00m:\n",
      "\u001b[1;32m   1927\u001b[0m     \u001b[38;5;28mself\u001b[39m\u001b[38;5;241m.\u001b[39mclose()\n",
      "\n",
      "File \u001b[0;32m~/.local/share/virtualenvs/APIs-v8A237SD/lib/python3.9/site-packages/pandas/io/parsers/c_parser_wrapper.py:234\u001b[0m, in \u001b[0;36mCParserWrapper.read\u001b[0;34m(self, nrows)\u001b[0m\n",
      "\u001b[1;32m    232\u001b[0m \u001b[38;5;28;01mtry\u001b[39;00m:\n",
      "\u001b[1;32m    233\u001b[0m     \u001b[38;5;28;01mif\u001b[39;00m \u001b[38;5;28mself\u001b[39m\u001b[38;5;241m.\u001b[39mlow_memory:\n",
      "\u001b[0;32m--> 234\u001b[0m         chunks \u001b[38;5;241m=\u001b[39m \u001b[38;5;28;43mself\u001b[39;49m\u001b[38;5;241;43m.\u001b[39;49m\u001b[43m_reader\u001b[49m\u001b[38;5;241;43m.\u001b[39;49m\u001b[43mread_low_memory\u001b[49m\u001b[43m(\u001b[49m\u001b[43mnrows\u001b[49m\u001b[43m)\u001b[49m\n",
      "\u001b[1;32m    235\u001b[0m         \u001b[38;5;66;03m# destructive to chunks\u001b[39;00m\n",
      "\u001b[1;32m    236\u001b[0m         data \u001b[38;5;241m=\u001b[39m _concatenate_chunks(chunks)\n",
      "\n",
      "File \u001b[0;32mparsers.pyx:838\u001b[0m, in \u001b[0;36mpandas._libs.parsers.TextReader.read_low_memory\u001b[0;34m()\u001b[0m\n",
      "\n",
      "File \u001b[0;32mparsers.pyx:905\u001b[0m, in \u001b[0;36mpandas._libs.parsers.TextReader._read_rows\u001b[0;34m()\u001b[0m\n",
      "\n",
      "File \u001b[0;32mparsers.pyx:874\u001b[0m, in \u001b[0;36mpandas._libs.parsers.TextReader._tokenize_rows\u001b[0;34m()\u001b[0m\n",
      "\n",
      "File \u001b[0;32mparsers.pyx:891\u001b[0m, in \u001b[0;36mpandas._libs.parsers.TextReader._check_tokenize_status\u001b[0;34m()\u001b[0m\n",
      "\n",
      "File \u001b[0;32mparsers.pyx:2061\u001b[0m, in \u001b[0;36mpandas._libs.parsers.raise_parser_error\u001b[0;34m()\u001b[0m\n",
      "\n",
      "\u001b[0;31mParserError\u001b[0m: Error tokenizing data. C error: Calling read(nbytes) on source failed. Try engine='python'."
     ]
    }
   ],
   "source": [
    "violence = pd.read_csv('../data/obstetric violence categories.csv')\n",
    "data = pd.read_csv('../output/humanize_birth_testimonies.csv')"
   ]
  },
  {
   "cell_type": "code",
   "execution_count": null,
   "id": "a26482ad",
   "metadata": {},
   "outputs": [],
   "source": [
    "data['text'] = data['text'].astype(str)\n",
    "data['text'] = data['text'].str.replace(r'\\n', '', regex=True)\n",
    "# data['text'] = data['text'].str.replace(r'\\s+', '', regex=True)\n",
    "data['post_length'] = data['text'].apply(lambda x: len(str(x).split()))"
   ]
  },
  {
   "cell_type": "code",
   "execution_count": null,
   "id": "2e82b310",
   "metadata": {},
   "outputs": [
    {
     "data": {
      "text/html": [
       "<div>\n",
       "<style scoped>\n",
       "    .dataframe tbody tr th:only-of-type {\n",
       "        vertical-align: middle;\n",
       "    }\n",
       "\n",
       "    .dataframe tbody tr th {\n",
       "        vertical-align: top;\n",
       "    }\n",
       "\n",
       "    .dataframe thead th {\n",
       "        text-align: right;\n",
       "    }\n",
       "</style>\n",
       "<table border=\"1\" class=\"dataframe\">\n",
       "  <thead>\n",
       "    <tr style=\"text-align: right;\">\n",
       "      <th></th>\n",
       "      <th>text</th>\n",
       "      <th>hashtags</th>\n",
       "    </tr>\n",
       "  </thead>\n",
       "  <tbody>\n",
       "    <tr>\n",
       "      <th>0</th>\n",
       "      <td>#модераторское@humanize_birthПаблик закрыт. Ис...</td>\n",
       "      <td>[#модераторское]</td>\n",
       "    </tr>\n",
       "    <tr>\n",
       "      <th>1</th>\n",
       "      <td>Здравствуйте! Меня зовут Анна, я студентка 6 к...</td>\n",
       "      <td>[#насилие_в_родах]</td>\n",
       "    </tr>\n",
       "    <tr>\n",
       "      <th>2</th>\n",
       "      <td>Тут будет две истории;)Старшую дочь я рожала в...</td>\n",
       "      <td>[]</td>\n",
       "    </tr>\n",
       "    <tr>\n",
       "      <th>3</th>\n",
       "      <td>Анонимно пожалуйста 🙏 Мне 22 года, ребеночку с...</td>\n",
       "      <td>[#насилие_в_родах]</td>\n",
       "    </tr>\n",
       "    <tr>\n",
       "      <th>4</th>\n",
       "      <td>Первородка. Родила дочь в 2018. Наблюдалась в ...</td>\n",
       "      <td>[]</td>\n",
       "    </tr>\n",
       "  </tbody>\n",
       "</table>\n",
       "</div>"
      ],
      "text/plain": [
       "                                                text            hashtags\n",
       "0  #модераторское@humanize_birthПаблик закрыт. Ис...    [#модераторское]\n",
       "1  Здравствуйте! Меня зовут Анна, я студентка 6 к...  [#насилие_в_родах]\n",
       "2  Тут будет две истории;)Старшую дочь я рожала в...                  []\n",
       "3  Анонимно пожалуйста 🙏 Мне 22 года, ребеночку с...  [#насилие_в_родах]\n",
       "4  Первородка. Родила дочь в 2018. Наблюдалась в ...                  []"
      ]
     },
     "metadata": {},
     "output_type": "display_data"
    }
   ],
   "source": [
    "# Extract the list of hashtags from the violence DataFrame\n",
    "violence_hashtags = violence['hashtag'].tolist()\n",
    "\n",
    "# Function to extract matching hashtags from a post\n",
    "def extract_hashtags(post_text):\n",
    "    if not isinstance(post_text, str):  # Ensure the input is a string\n",
    "        return []\n",
    "    return [hashtag for hashtag in re.findall(r'#\\w+', post_text) if hashtag in violence_hashtags]\n",
    "\n",
    "# Apply the function to the 'text' column and create a new column for matching hashtags\n",
    "data['hashtags'] = data['text'].apply(extract_hashtags)\n",
    "data['hashtags'] = data['hashtags'].apply(lambda x: None if isinstance(x, list) and not x else x)\n",
    "\n",
    "# Display the updated DataFrame\n",
    "data[['text', 'hashtags']].head()"
   ]
  },
  {
   "cell_type": "code",
   "execution_count": null,
   "id": "900b9188",
   "metadata": {
    "vscode": {
     "languageId": "ruby"
    }
   },
   "outputs": [],
   "source": [
    "# Function to find the type of violence for each post\n",
    "hashtag_to_category = dict(zip(violence['hashtag'], violence['category']))\n",
    "\n",
    "def find_violence_type(post_hashtags):\n",
    "    if not post_hashtags:\n",
    "        return None\n",
    "    categories = {hashtag_to_category[hashtag] for hashtag in post_hashtags if hashtag in hashtag_to_category}\n",
    "    return ', '.join(categories) if categories else None\n",
    "\n",
    "data['violence_type'] = data['hashtags'].apply(find_violence_type)"
   ]
  },
  {
   "cell_type": "markdown",
   "id": "5153eb4d",
   "metadata": {},
   "source": [
    "# Выделяем эмоции в постах [Насилие в родах](https://vk.com/humanize_birth)"
   ]
  },
  {
   "cell_type": "code",
   "execution_count": 4,
   "id": "4e506e27",
   "metadata": {},
   "outputs": [
    {
     "name": "stderr",
     "output_type": "stream",
     "text": [
      "[nltk_data] Downloading package punkt to /Users/Helen/nltk_data...\n",
      "[nltk_data]   Package punkt is already up-to-date!\n"
     ]
    }
   ],
   "source": [
    "russian_stopwords = set(stopwords.words(\"russian\"))\n",
    "morph = MorphAnalyzer()\n",
    "nltk.download('punkt')\n",
    "tqdm.pandas()\n",
    "wn = RuWordNet()"
   ]
  },
  {
   "cell_type": "code",
   "execution_count": 2,
   "id": "8befd058",
   "metadata": {},
   "outputs": [],
   "source": [
    "df = pd.read_csv('../output/detailed_data_with_emotions.csv')\n",
    "# violence = pd.read_csv('../output/obstetric violence categories.csv')"
   ]
  },
  {
   "cell_type": "code",
   "execution_count": 8,
   "id": "dc1dc33b",
   "metadata": {},
   "outputs": [],
   "source": [
    "# Replace all occurrences of 'non-physical' in the 'violence_type' column with 'psychological'\n",
    "df['violence_type'] = df['violence_type'].str.replace('non-physical', 'psychological', regex=False)"
   ]
  },
  {
   "cell_type": "markdown",
   "id": "6174d42a",
   "metadata": {},
   "source": [
    "## Словарь эмоций"
   ]
  },
  {
   "cell_type": "code",
   "execution_count": null,
   "id": "6a049c28",
   "metadata": {},
   "outputs": [],
   "source": [
    "# Словарь для определения эмоций, созданный на основе синонимов из RuWordNet и ручного редактирования\n",
    "emotion_lexicon = {\n",
    "    'стыд': {'виноватый', 'вина', 'унижение','униженность', 'позор', 'стыд', 'клеймо', 'смущенность', 'пристыженный', 'смущение', 'стыдоба', 'смутить', 'сконфузить', 'оконфузить', 'конфузить', 'оконфуживать', 'стыдливость', 'смущать', 'позорище', 'бесчестье', 'стыдно', 'позор', 'пятно'},\n",
    "    'страх': {'истерика', 'нервничать', 'жуть', 'болевой', 'панический', 'волнение', 'стресс', 'запугивание', 'ад','бояться','страх', 'чувство волнения', 'тревога', 'кошмарные обстоятельства', 'жуть', 'страшенный', 'боязнь', 'тревога', 'волнение', 'ажитация', 'ужас', 'беспокойность', 'встревоженность', 'мрак', 'жуткий', 'взволнованность', 'треволнение', 'беспокойство', 'страшный', 'страх', 'обеспокоенность', 'паника', 'тревожность', 'ужас', 'опасение'},\n",
    "    'боль': {'удар', 'мучиться', 'дискомфорт', 'скулить', 'выть', 'мучаться', 'болевой', 'жечь', 'голод', 'изжога', 'жжение', 'пытка', 'мука','плакать','рана', 'боль', 'болевой', 'разболеться', 'переболеть', 'болевое ощущение', 'нестерпимый', 'рана души', 'болеть', 'страдание', 'нездоровый', 'поболеть', 'слабенький', 'заболеть', 'приболеть', 'нездоровиться', 'хворать', 'заболевать', 'слабый', 'побаливать', 'страдание', 'проболеть', 'похварывать', 'недомогать', 'мука', 'нещадный', 'невыносимый', 'мучение', 'болезненный', 'слабоватый', 'прихварывать', 'мученичество', 'ослабелый', 'больно', 'боль', 'непереносимый'},\n",
    "    'злость': {'ненависть', 'злость', 'злоба', 'гнев', 'озлобленность', 'злоба', 'злость', 'ожесточение', 'агрессивность', 'раздраженность', 'остервенелость', 'агрессия', 'бешенство', 'неистовость', 'озлобление', 'яростность', 'злобность', 'ярость', 'раздражение', 'ожесточенность', 'ополчать'},\n",
    "    'одиночество': {'непонимание', 'безразличный', 'одиночество', 'беспомощность', 'никто', 'изолированность', 'изоляция', 'изолирование', 'отчуждение собственности', 'один'},\n",
    "    'грусть': {'реветь', 'подвывать', 'навзрыд', 'отчаяние', 'расплакаться', 'безысходность', 'грустно','грустить', 'расстройство', 'тоскливость', 'взгрустнуть', 'грустноватый', 'грусть', 'минор', 'скисать', 'опечалиться', 'огорчение', 'тоска', 'опечаливаться', 'грустный', 'погрустить', 'невеселый', 'печальный', 'печаль', 'печалиться', 'погрустнеть', 'сокрушенный', 'хандра', 'грустить', 'меланхолия', 'скиснуть', 'нерадостный', 'загрустить', 'депрессия'},\n",
    "    'радость': {'наслаждаться','улыбаться', 'радоваться', 'поздравлять', 'счастье', 'восторг', 'восхититься', 'нарадоваться', 'восхищение', 'порадоваться', 'радость', 'восторженный', 'восторгаться', 'обрадоваться', 'праздник', 'отрада', 'радоваться', 'возрадоваться', 'восхищаться', 'радостный'},\n",
    "    'спокойствие': {'облегчение', 'спокойно', 'приветливый', 'добродушный', 'подбадривать', 'спокойный', 'спокойствие', 'умиротворенный', 'умиротворить', 'умиротворение', 'покой', 'умиротворять', 'равновесие'},\n",
    "    'унижение': {'пренебрежение', 'оскорбление', 'осуждение', 'униженность', 'уничижить', 'срамиться', 'стыд', 'клеймо', 'оскандалиться', 'уничижать', 'стыдоба', 'опозориться', 'запачкаться', 'принизить', 'унижение', 'осрамиться', 'пощечина', 'принижение', 'замараться', 'унижать', 'самоуничижение', 'уничижение', 'самоунижение', 'унизить', 'позорище', 'бесчестье', 'позориться', 'пятно', 'принижать', 'позор'}#,\n",
    "    # 'отвращение': {'раздражать', 'противно', 'покоробить', 'отвратить', 'отвращать', 'ужасный', 'пренеприятный', 'отпихнуть', 'омерзение', 'отталкивать', 'мерзкий', 'чудовищный', 'отвратительный', 'отпугнуть', 'отпугивать', 'упредить', 'претить', 'тошный', 'жутчайший', 'поганый', 'предотвращать', 'отталкивающий', 'мерзостный', 'жуткий', 'пакостный', 'фиговый', 'оттолкнуть', 'безобразный', 'пренеприятнейший', 'омерзительный', 'отпихивать', 'гнусный', 'предотвратить', 'гадкий', 'предупреждать', 'отвратный', 'дерьмовый', 'мерзопакостный', 'малоприятный', 'тошнота', 'отвращение', 'отстойный', 'противный', 'неприятный', 'коробить', 'паскудный', 'тошнотворный', 'гадостный', 'скверный'},\n",
    "    # 'разочарование': {'расстройство', 'огорчение', 'разочарование', 'разочарованность', 'минорное настроение'},\n",
    "    # 'беспомощность': {'беспомощность', 'неспособный защитить себя', 'беззащитный', 'беспомощный', 'беззащитность'},\n",
    "    # 'недовольный': {'недовольный', 'недовольство', 'неудовольствие'},\n",
    "    # 'агрессия': {'обозвать','обзывать', 'агрессия', 'агрессивное состояние', 'агрессивный', 'агрессивность'},\n",
    "}"
   ]
  },
  {
   "cell_type": "code",
   "execution_count": null,
   "id": "48cbc40c",
   "metadata": {},
   "outputs": [],
   "source": [
    "# Adding synonyms from RuWordNet dynamically\n",
    "def extend_lexicon_with_ruwordnet(emotion, words):\n",
    "    for word in words:\n",
    "        new_synonyms = set()  # Temporary set to collect new synonyms\n",
    "        for sense in wn.get_senses(word):\n",
    "            synonyms = [synonym.name for synonym in sense.synset.senses]\n",
    "            new_synonyms.update(synonyms)\n",
    "        emotion_lexicon[emotion].update(new_synonyms)  # Update the original set after iteration\n",
    "\n",
    "# Extend lexicon for all emotions\n",
    "for key in list(emotion_lexicon.keys()):  # Create a copy of the keys to avoid modifying the dictionary during iteration\n",
    "    extend_lexicon_with_ruwordnet(key, list(emotion_lexicon[key]))  # Pass a copy of the set to avoid runtime errors"
   ]
  },
  {
   "cell_type": "code",
   "execution_count": 81,
   "id": "f79e20eb",
   "metadata": {},
   "outputs": [
    {
     "data": {
      "text/plain": [
       "dict_items([('стыд', {'оконфузить', 'смущать', 'позорище', 'унижение', 'привести в замешательство', 'смутить', 'привести в смущение', 'позор', 'смущенность', 'чувство стыда', 'бесчестье', 'клеймо позора', 'оконфуживать', 'пятно на совести', 'пристыженный', 'клеймо', 'смущение', 'сконфузить', 'стыд', 'пятно бесчестья', 'пятно', 'стыдно', 'какой позор', 'пятно позора', 'приводить в смущение', 'стыдоба', 'стыдливость', 'к стыду своему', 'клеймо на репутации', 'позорное клеймо', 'конфузить', 'пятно на репутации', 'униженность'}), ('страх', {'кошмарные обстоятельства', 'мрак', 'большая тревога', 'встревоженность', 'треволнение', 'страшенный', 'волнение', 'тихий ужас', 'жуть', 'стеснение в сердце', 'кошмар', 'чувство тревоги', 'ужасная ситуация', 'обеспокоенность', 'беспокойство', 'волнения', 'кошмарная ситуация', 'тревожность', 'беспокойность', 'тревожный сигнал', 'как в страшном сне', 'паника', 'сигнал тревоги', 'бояться', 'в страшном сне', 'ад', 'ужас', 'жуткий', 'как о страшном сне', 'чувство волнения', 'опасение', 'ажитация', 'волна недовольства', 'панические настроения', 'ужасные обстоятельства', 'страшный', 'боязнь', 'как страшный сон', 'животный ужас', 'страх', 'тревога', 'взволнованность', 'животный страх'}), ('боль', {'переносить болезнь', 'душевная рана', 'разболеться', 'болеть', 'болеть против', 'нещадный', 'непереносимый', 'рана в душе', 'болевое ощущение', 'прохворать', 'страдать болезнью', 'недомогать', 'занедужить', 'слабый по здоровью', 'нездоровиться', 'нездоровый', 'душевное страдание', 'мытарство', 'мучение', 'душевный недуг', 'похварывать', 'душевная боль', 'невыносимый', 'приболеть', 'болевой', 'хворать', 'заболевать', 'быть нездоровым', 'побаливать', 'физическая боль', 'поболеть', 'болезнь поразила', 'перенести болезнь', 'боль в душе', 'переболеть', 'заболеть', 'мука', 'рана души', 'ослабелый', 'страдание', 'слабый', 'душой болеть', 'сердечная рана', 'болезненное ощущение', 'слабенький', 'прихварывать', 'болезненный', 'слабоватый', 'болезнь поражает', 'рана в сердце', 'больно', 'нестерпимый', 'проболеть', 'ощущение боли', 'рана', 'мученичество', 'боль', 'чувство боли', 'переживать за', 'душевная пытка', 'плакать', 'болевой синдром', 'физическое страдание', 'быть больным'}), ('злость', {'ярость', 'агрессия', 'как кость в горле', 'раздражение', 'настраивать против', 'злость', 'озлобление', 'неистовость', 'агрессивность', 'бешенство', 'злобность', 'чувство раздражения', 'озлобленность', 'злоба', 'ожесточение', 'сильный гнев', 'чувство бешенства', 'гнев', 'раздраженность', 'яростность', 'остервенелость', 'настроить против', 'ополчать', 'враждебно настроить', 'ожесточенность', 'агрессивное состояние'}), ('одиночество', {'беспомощность', 'изоляция', 'отчуждение собственности', 'изолирование', 'один', 'никто', 'изолированность'}), ('грусть', {'грустноватый', 'скиснуть', 'невеселый', 'грустить', 'тоска зеленая', 'тоска', 'минор', 'огорчение', 'минорное настроение', 'опечаливаться', 'комок к горлу подступает', 'тоскливое настроение', 'загрустить', 'смертная тоска', 'тоскливое чувство', 'кручина', 'грустный', 'пригорюниться', 'грусть', 'печальный', 'печаль', 'депрессия', 'меланхолия', 'нерадостный', 'сокрушенный', 'взгрустнуть', 'погрустить', 'хандра', 'погрустнеть', 'тоскливость', 'печалиться', 'расстройство', 'в горле появляется комок', 'тоска смертная', 'грустное настроение', 'скисать', 'к горлу подступил комок', 'опечалиться', 'пригорюниваться'}), ('отвращение', {'тошнотворный', 'чудовищно плохой', 'вызвать отвращение', 'предупреждать', 'отпихнуть', 'вызывать отвращение', 'предотвратить', 'скверный', 'тошный', 'оттолкнуть', 'упредить', 'пренеприятнейший', 'гадкий', 'чудовищный', 'отпихивать', 'мерзостный', 'отвратный', 'неприятный', 'оттолкнуть поведением', 'отталкивать', 'отпугнуть', 'отвратить', 'претить', 'дерьмовый', 'отпугнуть своим поведением', 'гнусный', 'отвратительный', 'отвращение', 'покоробить', 'пакостный', 'предупредить возникновение', 'отстойный', 'кошмарный', 'физиологическое отвращение', 'пренеприятный', 'жуткий', 'отпугивать', 'ужасный', 'отвращать', 'мерзкий', 'жутчайший', 'поганый', 'предотвращать', 'паскудный', 'мерзопакостный', 'фиговый', 'чувство отвращения', 'безобразный', 'физиологическая ненависть', 'оттолкнуть своим поведением', 'омерзительный', 'тошнота', 'малоприятный', 'противный', 'гадостный', 'коробить', 'омерзение', 'отталкивающий', 'внушать отвращение'}), ('радость', {'телячий восторг', 'получить радость', 'приходить в восхищение', 'ощущение праздника', 'наслаждаться', 'радостный настрой', 'восторженный', 'счастье', 'праздник на душе', 'радостный', 'приходить в восторг', 'восхищение', 'праздник', 'не могли нарадоваться', 'восхищаться', 'радость', 'поздравлять', 'прийти в восторг', 'возрадоваться', 'праздничное чувство', 'нарадоваться', 'испытывать восторг', 'радостное настроение', 'испытывать радость', 'радостное чувство', 'обрадоваться', 'чувство праздника', 'испытать восторг', 'чувство радости', 'восторг', 'восторгаться', 'праздничное настроение', 'порадоваться', 'прийти в восхищение', 'радоваться', 'получать радость', 'улыбаться', 'праздник в душе', 'восхититься', 'отрада'}), ('спокойствие', {'спокойствие', 'спокойствие души', 'умиротворить', 'душевный покой', 'внутренне спокойный', 'спокойная обстановка', 'спокойный настрой', 'умиротворенный', 'душевное равновесие', 'спокойный', 'подбадривать', 'приветливый', 'спокойно', 'добродушный', 'равновесие', 'душевное спокойствие', 'мир и тишина', 'покой', 'умиротворение', 'внутреннее спокойствие', 'умиротворять'})])"
      ]
     },
     "execution_count": 81,
     "metadata": {},
     "output_type": "execute_result"
    }
   ],
   "source": [
    "emotion_lexicon.items()"
   ]
  },
  {
   "cell_type": "markdown",
   "id": "180ac953",
   "metadata": {},
   "source": [
    "## Считаем эмоции в постах"
   ]
  },
  {
   "cell_type": "code",
   "execution_count": 13,
   "id": "e084cd8c",
   "metadata": {},
   "outputs": [],
   "source": [
    "# Drop rows with NaN in 'violence_type' before applying the filter\n",
    "df = df.loc[~df['violence_type'].str.contains('admin')]"
   ]
  },
  {
   "cell_type": "code",
   "execution_count": 11,
   "id": "bcb6dd60",
   "metadata": {},
   "outputs": [],
   "source": [
    "df['clean_text'] = df['text'].str.replace(r'#[\\w_]+(@humanize_birth)', ' ', regex=True)\n",
    "df['clean_text'] = df['clean_text'].str.replace(r'#[\\w_]+', ' ', regex=True)\n",
    "# df.loc[df['id'] == 2553, 'clean_text'].to_clipboard()"
   ]
  },
  {
   "cell_type": "code",
   "execution_count": 12,
   "id": "bbf2c486",
   "metadata": {},
   "outputs": [
    {
     "name": "stderr",
     "output_type": "stream",
     "text": [
      "100%|██████████| 914/914 [02:05<00:00,  7.29it/s]\n"
     ]
    }
   ],
   "source": [
    "def preprocess(text):\n",
    "    text = re.sub(r'[^а-яА-ЯёЁ\\s]', ' ', text.lower())\n",
    "    text = re.sub(r'\\s{2,}', ' ', text.lower())\n",
    "    tokens = nltk.word_tokenize(text, language='russian')\n",
    "    lemmas = [morph.parse(word)[0].normal_form for word in tokens if word.isalpha()]\n",
    "    lemmas = [word for word in lemmas if word not in russian_stopwords and len(word) > 1]\n",
    "    return lemmas\n",
    "\n",
    "df['lemmas'] = df['clean_text'].progress_apply(preprocess)"
   ]
  },
  {
   "cell_type": "code",
   "execution_count": 13,
   "id": "814c6050",
   "metadata": {},
   "outputs": [
    {
     "name": "stderr",
     "output_type": "stream",
     "text": [
      "100%|██████████| 914/914 [00:00<00:00, 2817.06it/s]\n"
     ]
    }
   ],
   "source": [
    "def emotion_share(lemmas):\n",
    "    total = len(lemmas)\n",
    "    counts = {emotion: 0 for emotion in emotion_lexicon}\n",
    "    \n",
    "    for lemma in lemmas:\n",
    "        for emotion, word_set in emotion_lexicon.items():\n",
    "            if lemma in word_set:\n",
    "                counts[emotion] += 1\n",
    "    \n",
    "    # Convert counts to shares\n",
    "    if total == 0:\n",
    "        shares = {emotion: 0.0 for emotion in emotion_lexicon}\n",
    "    else:\n",
    "        shares = {emotion: count / total for emotion, count in counts.items()}\n",
    "    \n",
    "    return shares\n",
    "\n",
    "df['emotion_shares'] = df['lemmas'].progress_apply(emotion_share)"
   ]
  },
  {
   "cell_type": "markdown",
   "id": "b4dc65a9",
   "metadata": {},
   "source": [
    "## Визуализируем эмоции"
   ]
  },
  {
   "cell_type": "code",
   "execution_count": 18,
   "id": "1825d51b",
   "metadata": {},
   "outputs": [
    {
     "data": {
      "image/png": "[encoded data removed]",
      "text/plain": [
       "<Figure size 640x480 with 1 Axes>"
      ]
     },
     "metadata": {},
     "output_type": "display_data"
    }
   ],
   "source": [
    "import matplotlib.pyplot as plt\n",
    "\n",
    "emotion_columns = list(emotion_lexicon.keys())\n",
    "df[emotion_columns] = df['emotion_shares'].apply(pd.Series)\n",
    "emotion_df = df[emotion_columns]\n",
    "\n",
    "# Calculate the mean of each emotion\n",
    "mean_emotions = emotion_df.mean().sort_values(ascending=True)\n",
    "\n",
    "# Plot the results\n",
    "mean_emotions.plot(kind='barh', color='tomato')\n",
    "plt.ylabel(\"Доля эмоции от всех слов в посте\")\n",
    "plt.xlabel(\"Эмоция\")\n",
    "plt.title(\"Эмоции в группе  'Насилие в родах'\")\n",
    "plt.tight_layout()\n",
    "plt.show()\n"
   ]
  },
  {
   "cell_type": "code",
   "execution_count": 4,
   "id": "c5d29f12",
   "metadata": {},
   "outputs": [],
   "source": [
    "# Preparing data for co-occurence of hashtags and violence types\n",
    "psychological_tags = [\n",
    "    '#ирония_унижение_обесценивание',\n",
    "    '#игнор_просьб_о_помощи',\n",
    "    '#игнор_боли',\n",
    "    '#вопреки_отказу',\n",
    "    '#сознательная_дезинформация_обман',\n",
    "    '#принуждение_к_кесареву_сечению',\n",
    "]\n",
    "\n",
    "physical_tags = [\n",
    "    '#нельзя_свободно_двигаться',\n",
    "    '#кесарево_сечение',\n",
    "    '#болезненный_осмотр',\n",
    "    '#выдавливание_кристеллер',\n",
    "    '#прокол_пузыря',\n",
    "    '#стимуляция_и_принуждение_к_ней',\n",
    "    '#ручное_открытие_шейки',\n",
    "    '#швы_на_живую',\n",
    "    '#швы_наживую',\n",
    "    '#эпизиотомия'\n",
    "]\n",
    "\n",
    "all_tags = psychological_tags + physical_tags\n",
    "\n",
    "# Ensure df['hashtags'] is a list\n",
    "df['hashtags'] = df['hashtags'].apply(lambda x: eval(x) if isinstance(x, str) else x)\n",
    "\n",
    "# Create binary columns for each hashtag\n",
    "for tag in all_tags:\n",
    "    df[tag] = df['hashtags'].apply(lambda tags: int(tag in tags))\n",
    "\n",
    "\n",
    "# Subset to only the relevant columns\n",
    "psychological_df = df[psychological_tags]\n",
    "physical_df = df[physical_tags]\n",
    "\n",
    "co_occurrence_matrix = psychological_df.T.dot(physical_df)\n",
    "\n",
    "# Save or inspect the matrix\n",
    "co_occurrence_matrix.to_csv(\"cooccurrence_matrix_psych_vs_phys.csv\")\n",
    "\n",
    "# Optional: Normalize\n",
    "# co_occurrence.to_csv('hashtag_heatmap.csv')\n"
   ]
  },
  {
   "cell_type": "code",
   "execution_count": 8,
   "id": "b51d6229",
   "metadata": {},
   "outputs": [
    {
     "data": {
      "text/plain": [
       "#ирония_унижение_обесценивание       586\n",
       "#игнор_просьб_о_помощи               438\n",
       "#игнор_боли                          416\n",
       "#вопреки_отказу                       89\n",
       "#сознательная_дезинформация_обман    182\n",
       "#принуждение_к_кесареву_сечению       58\n",
       "dtype: int64"
      ]
     },
     "execution_count": 8,
     "metadata": {},
     "output_type": "execute_result"
    }
   ],
   "source": [
    "psychological_df.sum()"
   ]
  },
  {
   "cell_type": "code",
   "execution_count": 9,
   "id": "40705a88",
   "metadata": {},
   "outputs": [
    {
     "data": {
      "text/plain": [
       "#нельзя_свободно_двигаться         215\n",
       "#кесарево_сечение                    2\n",
       "#болезненный_осмотр                311\n",
       "#выдавливание_кристеллер           211\n",
       "#прокол_пузыря                     275\n",
       "#стимуляция_и_принуждение_к_ней    303\n",
       "#ручное_открытие_шейки               1\n",
       "#швы_на_живую                      147\n",
       "#швы_наживую                         1\n",
       "#эпизиотомия                       224\n",
       "dtype: int64"
      ]
     },
     "execution_count": 9,
     "metadata": {},
     "output_type": "execute_result"
    }
   ],
   "source": [
    "physical_df.sum()"
   ]
  },
  {
   "cell_type": "code",
   "execution_count": 36,
   "id": "09eaee0e",
   "metadata": {},
   "outputs": [
    {
     "data": {
      "text/html": [
       "<div>\n",
       "<style scoped>\n",
       "    .dataframe tbody tr th:only-of-type {\n",
       "        vertical-align: middle;\n",
       "    }\n",
       "\n",
       "    .dataframe tbody tr th {\n",
       "        vertical-align: top;\n",
       "    }\n",
       "\n",
       "    .dataframe thead th {\n",
       "        text-align: right;\n",
       "    }\n",
       "</style>\n",
       "<table border=\"1\" class=\"dataframe\">\n",
       "  <thead>\n",
       "    <tr style=\"text-align: right;\">\n",
       "      <th></th>\n",
       "      <th>#нельзя_свободно_двигаться</th>\n",
       "      <th>#кесарево_сечение</th>\n",
       "      <th>#болезненный_осмотр</th>\n",
       "      <th>#выдавливание_кристеллер</th>\n",
       "      <th>#прокол_пузыря</th>\n",
       "      <th>#стимуляция_и_принуждение_к_ней</th>\n",
       "      <th>#ручное_открытие_шейки</th>\n",
       "      <th>#швы_на_живую</th>\n",
       "      <th>#швы_наживую</th>\n",
       "      <th>#эпизиотомия</th>\n",
       "    </tr>\n",
       "  </thead>\n",
       "  <tbody>\n",
       "    <tr>\n",
       "      <th>#ирония_унижение_обесценивание</th>\n",
       "      <td>171</td>\n",
       "      <td>1</td>\n",
       "      <td>245</td>\n",
       "      <td>152</td>\n",
       "      <td>202</td>\n",
       "      <td>219</td>\n",
       "      <td>0</td>\n",
       "      <td>119</td>\n",
       "      <td>1</td>\n",
       "      <td>162</td>\n",
       "    </tr>\n",
       "    <tr>\n",
       "      <th>#игнор_просьб_о_помощи</th>\n",
       "      <td>132</td>\n",
       "      <td>0</td>\n",
       "      <td>179</td>\n",
       "      <td>118</td>\n",
       "      <td>151</td>\n",
       "      <td>165</td>\n",
       "      <td>0</td>\n",
       "      <td>88</td>\n",
       "      <td>1</td>\n",
       "      <td>116</td>\n",
       "    </tr>\n",
       "    <tr>\n",
       "      <th>#игнор_боли</th>\n",
       "      <td>134</td>\n",
       "      <td>1</td>\n",
       "      <td>199</td>\n",
       "      <td>124</td>\n",
       "      <td>160</td>\n",
       "      <td>165</td>\n",
       "      <td>1</td>\n",
       "      <td>98</td>\n",
       "      <td>0</td>\n",
       "      <td>125</td>\n",
       "    </tr>\n",
       "    <tr>\n",
       "      <th>#вопреки_отказу</th>\n",
       "      <td>39</td>\n",
       "      <td>0</td>\n",
       "      <td>43</td>\n",
       "      <td>23</td>\n",
       "      <td>35</td>\n",
       "      <td>38</td>\n",
       "      <td>0</td>\n",
       "      <td>15</td>\n",
       "      <td>0</td>\n",
       "      <td>21</td>\n",
       "    </tr>\n",
       "    <tr>\n",
       "      <th>#сознательная_дезинформация_обман</th>\n",
       "      <td>60</td>\n",
       "      <td>0</td>\n",
       "      <td>63</td>\n",
       "      <td>46</td>\n",
       "      <td>69</td>\n",
       "      <td>93</td>\n",
       "      <td>1</td>\n",
       "      <td>32</td>\n",
       "      <td>0</td>\n",
       "      <td>49</td>\n",
       "    </tr>\n",
       "    <tr>\n",
       "      <th>#принуждение_к_кесареву_сечению</th>\n",
       "      <td>9</td>\n",
       "      <td>0</td>\n",
       "      <td>22</td>\n",
       "      <td>5</td>\n",
       "      <td>26</td>\n",
       "      <td>24</td>\n",
       "      <td>0</td>\n",
       "      <td>6</td>\n",
       "      <td>0</td>\n",
       "      <td>7</td>\n",
       "    </tr>\n",
       "  </tbody>\n",
       "</table>\n",
       "</div>"
      ],
      "text/plain": [
       "                                   #нельзя_свободно_двигаться  \\\n",
       "#ирония_унижение_обесценивание                            171   \n",
       "#игнор_просьб_о_помощи                                    132   \n",
       "#игнор_боли                                               134   \n",
       "#вопреки_отказу                                            39   \n",
       "#сознательная_дезинформация_обман                          60   \n",
       "#принуждение_к_кесареву_сечению                             9   \n",
       "\n",
       "                                   #кесарево_сечение  #болезненный_осмотр  \\\n",
       "#ирония_унижение_обесценивание                     1                  245   \n",
       "#игнор_просьб_о_помощи                             0                  179   \n",
       "#игнор_боли                                        1                  199   \n",
       "#вопреки_отказу                                    0                   43   \n",
       "#сознательная_дезинформация_обман                  0                   63   \n",
       "#принуждение_к_кесареву_сечению                    0                   22   \n",
       "\n",
       "                                   #выдавливание_кристеллер  #прокол_пузыря  \\\n",
       "#ирония_унижение_обесценивание                          152             202   \n",
       "#игнор_просьб_о_помощи                                  118             151   \n",
       "#игнор_боли                                             124             160   \n",
       "#вопреки_отказу                                          23              35   \n",
       "#сознательная_дезинформация_обман                        46              69   \n",
       "#принуждение_к_кесареву_сечению                           5              26   \n",
       "\n",
       "                                   #стимуляция_и_принуждение_к_ней  \\\n",
       "#ирония_унижение_обесценивание                                 219   \n",
       "#игнор_просьб_о_помощи                                         165   \n",
       "#игнор_боли                                                    165   \n",
       "#вопреки_отказу                                                 38   \n",
       "#сознательная_дезинформация_обман                               93   \n",
       "#принуждение_к_кесареву_сечению                                 24   \n",
       "\n",
       "                                   #ручное_открытие_шейки  #швы_на_живую  \\\n",
       "#ирония_унижение_обесценивание                          0            119   \n",
       "#игнор_просьб_о_помощи                                  0             88   \n",
       "#игнор_боли                                             1             98   \n",
       "#вопреки_отказу                                         0             15   \n",
       "#сознательная_дезинформация_обман                       1             32   \n",
       "#принуждение_к_кесареву_сечению                         0              6   \n",
       "\n",
       "                                   #швы_наживую  #эпизиотомия  \n",
       "#ирония_унижение_обесценивание                1           162  \n",
       "#игнор_просьб_о_помощи                        1           116  \n",
       "#игнор_боли                                   0           125  \n",
       "#вопреки_отказу                               0            21  \n",
       "#сознательная_дезинформация_обман             0            49  \n",
       "#принуждение_к_кесареву_сечению               0             7  "
      ]
     },
     "execution_count": 36,
     "metadata": {},
     "output_type": "execute_result"
    }
   ],
   "source": [
    "co_occurrence_matrix\n",
    "# .to_csv('../output/data for graphs/co_occurrence_matrix.csv')"
   ]
  },
  {
   "cell_type": "code",
   "execution_count": 238,
   "id": "c985933a",
   "metadata": {},
   "outputs": [
    {
     "data": {
      "text/html": [
       "<div>\n",
       "<style scoped>\n",
       "    .dataframe tbody tr th:only-of-type {\n",
       "        vertical-align: middle;\n",
       "    }\n",
       "\n",
       "    .dataframe tbody tr th {\n",
       "        vertical-align: top;\n",
       "    }\n",
       "\n",
       "    .dataframe thead th {\n",
       "        text-align: right;\n",
       "    }\n",
       "</style>\n",
       "<table border=\"1\" class=\"dataframe\">\n",
       "  <thead>\n",
       "    <tr style=\"text-align: right;\">\n",
       "      <th></th>\n",
       "      <th>index</th>\n",
       "      <th>Emotion</th>\n",
       "      <th>Share</th>\n",
       "    </tr>\n",
       "  </thead>\n",
       "  <tbody>\n",
       "    <tr>\n",
       "      <th>0</th>\n",
       "      <td>0</td>\n",
       "      <td>стыд</td>\n",
       "      <td>0.0</td>\n",
       "    </tr>\n",
       "    <tr>\n",
       "      <th>1</th>\n",
       "      <td>1</td>\n",
       "      <td>стыд</td>\n",
       "      <td>0.0</td>\n",
       "    </tr>\n",
       "    <tr>\n",
       "      <th>2</th>\n",
       "      <td>2</td>\n",
       "      <td>стыд</td>\n",
       "      <td>0.0</td>\n",
       "    </tr>\n",
       "    <tr>\n",
       "      <th>3</th>\n",
       "      <td>3</td>\n",
       "      <td>стыд</td>\n",
       "      <td>0.0</td>\n",
       "    </tr>\n",
       "    <tr>\n",
       "      <th>4</th>\n",
       "      <td>4</td>\n",
       "      <td>стыд</td>\n",
       "      <td>0.0</td>\n",
       "    </tr>\n",
       "  </tbody>\n",
       "</table>\n",
       "</div>"
      ],
      "text/plain": [
       "   index Emotion  Share\n",
       "0      0    стыд    0.0\n",
       "1      1    стыд    0.0\n",
       "2      2    стыд    0.0\n",
       "3      3    стыд    0.0\n",
       "4      4    стыд    0.0"
      ]
     },
     "execution_count": 238,
     "metadata": {},
     "output_type": "execute_result"
    }
   ],
   "source": [
    "# Extract emotion columns\n",
    "emotion_columns = list(emotion_lexicon.keys())\n",
    "emotion_df = df[emotion_columns]\n",
    "\n",
    "# Melt the DataFrame to long format\n",
    "df_melted = emotion_df.reset_index().melt(id_vars=['index'], var_name='Emotion', value_name='Share')\n",
    "\n",
    "# Filter values to ensure X-axis ranges from 0.0 to 1.0\n",
    "df_melted = df_melted[(df_melted['Share'] >= 0.0) & (df_melted['Share'] <= 1.0)]\n",
    "\n",
    "# Display the prepared dataset\n",
    "df_melted.head()\n"
   ]
  },
  {
   "cell_type": "code",
   "execution_count": 38,
   "id": "d3a3b1c3",
   "metadata": {},
   "outputs": [
    {
     "ename": "NameError",
     "evalue": "name 'df_melted' is not defined",
     "output_type": "error",
     "traceback": [
      "\u001b[0;31m---------------------------------------------------------------------------\u001b[0m",
      "\u001b[0;31mNameError\u001b[0m                                 Traceback (most recent call last)",
      "Cell \u001b[0;32mIn[38], line 6\u001b[0m\n\u001b[1;32m      4\u001b[0m \u001b[38;5;66;03m# Create a beeswarm plot with emotions on the Y-axis and share on the X-axis\u001b[39;00m\n\u001b[1;32m      5\u001b[0m plt\u001b[38;5;241m.\u001b[39mfigure(figsize\u001b[38;5;241m=\u001b[39m(\u001b[38;5;241m12\u001b[39m, \u001b[38;5;241m6\u001b[39m))\n\u001b[0;32m----> 6\u001b[0m sns\u001b[38;5;241m.\u001b[39mswarmplot(data\u001b[38;5;241m=\u001b[39m\u001b[43mdf_melted\u001b[49m, y\u001b[38;5;241m=\u001b[39m\u001b[38;5;124m'\u001b[39m\u001b[38;5;124mEmotion\u001b[39m\u001b[38;5;124m'\u001b[39m, x\u001b[38;5;241m=\u001b[39m\u001b[38;5;124m'\u001b[39m\u001b[38;5;124mShare\u001b[39m\u001b[38;5;124m'\u001b[39m, size\u001b[38;5;241m=\u001b[39m\u001b[38;5;241m3\u001b[39m, palette\u001b[38;5;241m=\u001b[39m\u001b[38;5;124m'\u001b[39m\u001b[38;5;124mviridis\u001b[39m\u001b[38;5;124m'\u001b[39m, orient\u001b[38;5;241m=\u001b[39m\u001b[38;5;124m'\u001b[39m\u001b[38;5;124mh\u001b[39m\u001b[38;5;124m'\u001b[39m)\n\u001b[1;32m      8\u001b[0m \u001b[38;5;66;03m# Customize the plot\u001b[39;00m\n\u001b[1;32m      9\u001b[0m plt\u001b[38;5;241m.\u001b[39mtitle(\u001b[38;5;124m\"\u001b[39m\u001b[38;5;124mBeeswarm Plot of Emotion Shares\u001b[39m\u001b[38;5;124m\"\u001b[39m)\n",
      "\u001b[0;31mNameError\u001b[0m: name 'df_melted' is not defined"
     ]
    },
    {
     "data": {
      "text/plain": [
       "<Figure size 1200x600 with 0 Axes>"
      ]
     },
     "metadata": {},
     "output_type": "display_data"
    }
   ],
   "source": [
    "import seaborn as sns\n",
    "import matplotlib.pyplot as plt\n",
    "\n",
    "# Create a beeswarm plot with emotions on the Y-axis and share on the X-axis\n",
    "plt.figure(figsize=(12, 6))\n",
    "sns.swarmplot(data=df_melted, y='Emotion', x='Share', size=3, palette='viridis', orient='h')\n",
    "\n",
    "# Customize the plot\n",
    "plt.title(\"Beeswarm Plot of Emotion Shares\")\n",
    "plt.ylabel(\"Emotion\")\n",
    "plt.xlabel(\"Share\")\n",
    "plt.tight_layout()\n",
    "\n",
    "# Show the plot\n",
    "plt.show()\n"
   ]
  },
  {
   "cell_type": "code",
   "execution_count": 16,
   "id": "13f3ffa6",
   "metadata": {},
   "outputs": [
    {
     "data": {
      "image/png": "[encoded data removed]",
      "text/plain": [
       "<Figure size 800x600 with 1 Axes>"
      ]
     },
     "metadata": {},
     "output_type": "display_data"
    }
   ],
   "source": [
    "from matplotlib_venn import venn2\n",
    "\n",
    "import matplotlib.pyplot as plt\n",
    "\n",
    "# Calculate the sets\n",
    "set_physical = set(df[df['violence_type'].str.contains('physical violence', na=False)].index)\n",
    "set_non_physical = set(df[df['violence_type'].str.contains('psychological violence', na=False)].index)\n",
    "\n",
    "# Create the Venn diagram\n",
    "plt.figure(figsize=(8, 6))\n",
    "venn2([set_physical, set_non_physical], ('Физическое насилие', 'Психологическое насилие'))\n",
    "\n",
    "# Add title and show the plot\n",
    "plt.title(\"Акушерское насилие не ограничивается психологическим насилием\")\n",
    "plt.show()"
   ]
  },
  {
   "cell_type": "markdown",
   "id": "9f123868",
   "metadata": {},
   "source": [
    "## Проверяем эмоции в постах"
   ]
  },
  {
   "cell_type": "code",
   "execution_count": 104,
   "id": "8219b017",
   "metadata": {},
   "outputs": [
    {
     "name": "stdout",
     "output_type": "stream",
     "text": [
      "Number of posts with total emotion shares equal to 0: 45\n"
     ]
    }
   ],
   "source": [
    "# Calculate the total emotion shares for each post\n",
    "emotion_columns = list(emotion_lexicon.keys())\n",
    "emotion_df = df[emotion_columns]\n",
    "df['total_emotion_shares'] = df[emotion_columns].sum(axis=1)\n",
    "\n",
    "# Count the number of posts with total emotion shares equal to 0\n",
    "zero_emotion_posts = (df['total_emotion_shares'] == 0).sum()\n",
    "print(f\"Number of posts with total emotion shares equal to 0: {zero_emotion_posts}\")"
   ]
  },
  {
   "cell_type": "code",
   "execution_count": 110,
   "id": "dade690d",
   "metadata": {},
   "outputs": [
    {
     "data": {
      "text/html": [
       "<div>\n",
       "<style scoped>\n",
       "    .dataframe tbody tr th:only-of-type {\n",
       "        vertical-align: middle;\n",
       "    }\n",
       "\n",
       "    .dataframe tbody tr th {\n",
       "        vertical-align: top;\n",
       "    }\n",
       "\n",
       "    .dataframe thead th {\n",
       "        text-align: right;\n",
       "    }\n",
       "</style>\n",
       "<table border=\"1\" class=\"dataframe\">\n",
       "  <thead>\n",
       "    <tr style=\"text-align: right;\">\n",
       "      <th></th>\n",
       "      <th>стыд</th>\n",
       "      <th>страх</th>\n",
       "      <th>боль</th>\n",
       "      <th>злость</th>\n",
       "      <th>одиночество</th>\n",
       "      <th>грусть</th>\n",
       "      <th>отвращение</th>\n",
       "      <th>радость</th>\n",
       "      <th>спокойствие</th>\n",
       "    </tr>\n",
       "  </thead>\n",
       "  <tbody>\n",
       "    <tr>\n",
       "      <th>count</th>\n",
       "      <td>914.000000</td>\n",
       "      <td>914.000000</td>\n",
       "      <td>914.000000</td>\n",
       "      <td>914.000000</td>\n",
       "      <td>914.000000</td>\n",
       "      <td>914.000000</td>\n",
       "      <td>914.000000</td>\n",
       "      <td>914.000000</td>\n",
       "      <td>914.000000</td>\n",
       "    </tr>\n",
       "    <tr>\n",
       "      <th>mean</th>\n",
       "      <td>0.000647</td>\n",
       "      <td>0.005263</td>\n",
       "      <td>0.010405</td>\n",
       "      <td>0.000332</td>\n",
       "      <td>0.002715</td>\n",
       "      <td>0.000411</td>\n",
       "      <td>0.001572</td>\n",
       "      <td>0.001166</td>\n",
       "      <td>0.001040</td>\n",
       "    </tr>\n",
       "    <tr>\n",
       "      <th>std</th>\n",
       "      <td>0.002012</td>\n",
       "      <td>0.006737</td>\n",
       "      <td>0.009721</td>\n",
       "      <td>0.001719</td>\n",
       "      <td>0.003814</td>\n",
       "      <td>0.001594</td>\n",
       "      <td>0.003427</td>\n",
       "      <td>0.002745</td>\n",
       "      <td>0.002383</td>\n",
       "    </tr>\n",
       "    <tr>\n",
       "      <th>min</th>\n",
       "      <td>0.000000</td>\n",
       "      <td>0.000000</td>\n",
       "      <td>0.000000</td>\n",
       "      <td>0.000000</td>\n",
       "      <td>0.000000</td>\n",
       "      <td>0.000000</td>\n",
       "      <td>0.000000</td>\n",
       "      <td>0.000000</td>\n",
       "      <td>0.000000</td>\n",
       "    </tr>\n",
       "    <tr>\n",
       "      <th>25%</th>\n",
       "      <td>0.000000</td>\n",
       "      <td>0.000000</td>\n",
       "      <td>0.003643</td>\n",
       "      <td>0.000000</td>\n",
       "      <td>0.000000</td>\n",
       "      <td>0.000000</td>\n",
       "      <td>0.000000</td>\n",
       "      <td>0.000000</td>\n",
       "      <td>0.000000</td>\n",
       "    </tr>\n",
       "    <tr>\n",
       "      <th>50%</th>\n",
       "      <td>0.000000</td>\n",
       "      <td>0.003514</td>\n",
       "      <td>0.008730</td>\n",
       "      <td>0.000000</td>\n",
       "      <td>0.000336</td>\n",
       "      <td>0.000000</td>\n",
       "      <td>0.000000</td>\n",
       "      <td>0.000000</td>\n",
       "      <td>0.000000</td>\n",
       "    </tr>\n",
       "    <tr>\n",
       "      <th>75%</th>\n",
       "      <td>0.000000</td>\n",
       "      <td>0.007425</td>\n",
       "      <td>0.014969</td>\n",
       "      <td>0.000000</td>\n",
       "      <td>0.004482</td>\n",
       "      <td>0.000000</td>\n",
       "      <td>0.002376</td>\n",
       "      <td>0.001509</td>\n",
       "      <td>0.001434</td>\n",
       "    </tr>\n",
       "    <tr>\n",
       "      <th>max</th>\n",
       "      <td>0.024793</td>\n",
       "      <td>0.060606</td>\n",
       "      <td>0.111111</td>\n",
       "      <td>0.029851</td>\n",
       "      <td>0.029412</td>\n",
       "      <td>0.022989</td>\n",
       "      <td>0.047619</td>\n",
       "      <td>0.035714</td>\n",
       "      <td>0.030928</td>\n",
       "    </tr>\n",
       "  </tbody>\n",
       "</table>\n",
       "</div>"
      ],
      "text/plain": [
       "             стыд       страх        боль      злость  одиночество  \\\n",
       "count  914.000000  914.000000  914.000000  914.000000   914.000000   \n",
       "mean     0.000647    0.005263    0.010405    0.000332     0.002715   \n",
       "std      0.002012    0.006737    0.009721    0.001719     0.003814   \n",
       "min      0.000000    0.000000    0.000000    0.000000     0.000000   \n",
       "25%      0.000000    0.000000    0.003643    0.000000     0.000000   \n",
       "50%      0.000000    0.003514    0.008730    0.000000     0.000336   \n",
       "75%      0.000000    0.007425    0.014969    0.000000     0.004482   \n",
       "max      0.024793    0.060606    0.111111    0.029851     0.029412   \n",
       "\n",
       "           грусть  отвращение     радость  спокойствие  \n",
       "count  914.000000  914.000000  914.000000   914.000000  \n",
       "mean     0.000411    0.001572    0.001166     0.001040  \n",
       "std      0.001594    0.003427    0.002745     0.002383  \n",
       "min      0.000000    0.000000    0.000000     0.000000  \n",
       "25%      0.000000    0.000000    0.000000     0.000000  \n",
       "50%      0.000000    0.000000    0.000000     0.000000  \n",
       "75%      0.000000    0.002376    0.001509     0.001434  \n",
       "max      0.022989    0.047619    0.035714     0.030928  "
      ]
     },
     "execution_count": 110,
     "metadata": {},
     "output_type": "execute_result"
    }
   ],
   "source": [
    "emotion_df.describe()"
   ]
  },
  {
   "cell_type": "code",
   "execution_count": 112,
   "id": "12f9bc28",
   "metadata": {},
   "outputs": [
    {
     "data": {
      "text/html": [
       "<div>\n",
       "<style scoped>\n",
       "    .dataframe tbody tr th:only-of-type {\n",
       "        vertical-align: middle;\n",
       "    }\n",
       "\n",
       "    .dataframe tbody tr th {\n",
       "        vertical-align: top;\n",
       "    }\n",
       "\n",
       "    .dataframe thead th {\n",
       "        text-align: right;\n",
       "    }\n",
       "</style>\n",
       "<table border=\"1\" class=\"dataframe\">\n",
       "  <thead>\n",
       "    <tr style=\"text-align: right;\">\n",
       "      <th></th>\n",
       "      <th>стыд</th>\n",
       "      <th>страх</th>\n",
       "      <th>боль</th>\n",
       "      <th>злость</th>\n",
       "      <th>одиночество</th>\n",
       "      <th>грусть</th>\n",
       "      <th>отвращение</th>\n",
       "      <th>радость</th>\n",
       "      <th>спокойствие</th>\n",
       "      <th>id</th>\n",
       "      <th>total_emotion_shares</th>\n",
       "    </tr>\n",
       "  </thead>\n",
       "  <tbody>\n",
       "    <tr>\n",
       "      <th>0</th>\n",
       "      <td>0.000000</td>\n",
       "      <td>0.001942</td>\n",
       "      <td>0.011650</td>\n",
       "      <td>0.000000</td>\n",
       "      <td>0.005825</td>\n",
       "      <td>0.000000</td>\n",
       "      <td>0.000000</td>\n",
       "      <td>0.001942</td>\n",
       "      <td>0.001942</td>\n",
       "      <td>3538</td>\n",
       "      <td>0.023301</td>\n",
       "    </tr>\n",
       "    <tr>\n",
       "      <th>1</th>\n",
       "      <td>0.000000</td>\n",
       "      <td>0.002466</td>\n",
       "      <td>0.004932</td>\n",
       "      <td>0.000000</td>\n",
       "      <td>0.000000</td>\n",
       "      <td>0.000000</td>\n",
       "      <td>0.002466</td>\n",
       "      <td>0.000000</td>\n",
       "      <td>0.000000</td>\n",
       "      <td>3537</td>\n",
       "      <td>0.009864</td>\n",
       "    </tr>\n",
       "    <tr>\n",
       "      <th>2</th>\n",
       "      <td>0.000000</td>\n",
       "      <td>0.014563</td>\n",
       "      <td>0.009709</td>\n",
       "      <td>0.000000</td>\n",
       "      <td>0.004854</td>\n",
       "      <td>0.000000</td>\n",
       "      <td>0.000000</td>\n",
       "      <td>0.000000</td>\n",
       "      <td>0.000000</td>\n",
       "      <td>3536</td>\n",
       "      <td>0.029126</td>\n",
       "    </tr>\n",
       "    <tr>\n",
       "      <th>3</th>\n",
       "      <td>0.000000</td>\n",
       "      <td>0.007605</td>\n",
       "      <td>0.000000</td>\n",
       "      <td>0.003802</td>\n",
       "      <td>0.000000</td>\n",
       "      <td>0.007605</td>\n",
       "      <td>0.000000</td>\n",
       "      <td>0.000000</td>\n",
       "      <td>0.000000</td>\n",
       "      <td>3534</td>\n",
       "      <td>0.019011</td>\n",
       "    </tr>\n",
       "    <tr>\n",
       "      <th>4</th>\n",
       "      <td>0.000000</td>\n",
       "      <td>0.000000</td>\n",
       "      <td>0.011111</td>\n",
       "      <td>0.000000</td>\n",
       "      <td>0.000000</td>\n",
       "      <td>0.000000</td>\n",
       "      <td>0.000000</td>\n",
       "      <td>0.000000</td>\n",
       "      <td>0.000000</td>\n",
       "      <td>3533</td>\n",
       "      <td>0.011111</td>\n",
       "    </tr>\n",
       "    <tr>\n",
       "      <th>...</th>\n",
       "      <td>...</td>\n",
       "      <td>...</td>\n",
       "      <td>...</td>\n",
       "      <td>...</td>\n",
       "      <td>...</td>\n",
       "      <td>...</td>\n",
       "      <td>...</td>\n",
       "      <td>...</td>\n",
       "      <td>...</td>\n",
       "      <td>...</td>\n",
       "      <td>...</td>\n",
       "    </tr>\n",
       "    <tr>\n",
       "      <th>909</th>\n",
       "      <td>0.000000</td>\n",
       "      <td>0.003497</td>\n",
       "      <td>0.000000</td>\n",
       "      <td>0.000000</td>\n",
       "      <td>0.000000</td>\n",
       "      <td>0.000000</td>\n",
       "      <td>0.003497</td>\n",
       "      <td>0.003497</td>\n",
       "      <td>0.003497</td>\n",
       "      <td>20</td>\n",
       "      <td>0.013986</td>\n",
       "    </tr>\n",
       "    <tr>\n",
       "      <th>910</th>\n",
       "      <td>0.000000</td>\n",
       "      <td>0.000000</td>\n",
       "      <td>0.006024</td>\n",
       "      <td>0.000000</td>\n",
       "      <td>0.000000</td>\n",
       "      <td>0.000000</td>\n",
       "      <td>0.000000</td>\n",
       "      <td>0.000000</td>\n",
       "      <td>0.000000</td>\n",
       "      <td>18</td>\n",
       "      <td>0.006024</td>\n",
       "    </tr>\n",
       "    <tr>\n",
       "      <th>911</th>\n",
       "      <td>0.000000</td>\n",
       "      <td>0.000000</td>\n",
       "      <td>0.010152</td>\n",
       "      <td>0.000000</td>\n",
       "      <td>0.000000</td>\n",
       "      <td>0.000000</td>\n",
       "      <td>0.000000</td>\n",
       "      <td>0.000000</td>\n",
       "      <td>0.000000</td>\n",
       "      <td>16</td>\n",
       "      <td>0.010152</td>\n",
       "    </tr>\n",
       "    <tr>\n",
       "      <th>912</th>\n",
       "      <td>0.002874</td>\n",
       "      <td>0.002874</td>\n",
       "      <td>0.000000</td>\n",
       "      <td>0.000000</td>\n",
       "      <td>0.020115</td>\n",
       "      <td>0.000000</td>\n",
       "      <td>0.000000</td>\n",
       "      <td>0.000000</td>\n",
       "      <td>0.000000</td>\n",
       "      <td>13</td>\n",
       "      <td>0.025862</td>\n",
       "    </tr>\n",
       "    <tr>\n",
       "      <th>913</th>\n",
       "      <td>0.000000</td>\n",
       "      <td>0.000000</td>\n",
       "      <td>0.018405</td>\n",
       "      <td>0.000000</td>\n",
       "      <td>0.006135</td>\n",
       "      <td>0.006135</td>\n",
       "      <td>0.000000</td>\n",
       "      <td>0.000000</td>\n",
       "      <td>0.000000</td>\n",
       "      <td>10</td>\n",
       "      <td>0.030675</td>\n",
       "    </tr>\n",
       "  </tbody>\n",
       "</table>\n",
       "<p>914 rows × 11 columns</p>\n",
       "</div>"
      ],
      "text/plain": [
       "         стыд     страх      боль    злость  одиночество    грусть  \\\n",
       "0    0.000000  0.001942  0.011650  0.000000     0.005825  0.000000   \n",
       "1    0.000000  0.002466  0.004932  0.000000     0.000000  0.000000   \n",
       "2    0.000000  0.014563  0.009709  0.000000     0.004854  0.000000   \n",
       "3    0.000000  0.007605  0.000000  0.003802     0.000000  0.007605   \n",
       "4    0.000000  0.000000  0.011111  0.000000     0.000000  0.000000   \n",
       "..        ...       ...       ...       ...          ...       ...   \n",
       "909  0.000000  0.003497  0.000000  0.000000     0.000000  0.000000   \n",
       "910  0.000000  0.000000  0.006024  0.000000     0.000000  0.000000   \n",
       "911  0.000000  0.000000  0.010152  0.000000     0.000000  0.000000   \n",
       "912  0.002874  0.002874  0.000000  0.000000     0.020115  0.000000   \n",
       "913  0.000000  0.000000  0.018405  0.000000     0.006135  0.006135   \n",
       "\n",
       "     отвращение   радость  спокойствие    id  total_emotion_shares  \n",
       "0      0.000000  0.001942     0.001942  3538              0.023301  \n",
       "1      0.002466  0.000000     0.000000  3537              0.009864  \n",
       "2      0.000000  0.000000     0.000000  3536              0.029126  \n",
       "3      0.000000  0.000000     0.000000  3534              0.019011  \n",
       "4      0.000000  0.000000     0.000000  3533              0.011111  \n",
       "..          ...       ...          ...   ...                   ...  \n",
       "909    0.003497  0.003497     0.003497    20              0.013986  \n",
       "910    0.000000  0.000000     0.000000    18              0.006024  \n",
       "911    0.000000  0.000000     0.000000    16              0.010152  \n",
       "912    0.000000  0.000000     0.000000    13              0.025862  \n",
       "913    0.000000  0.000000     0.000000    10              0.030675  \n",
       "\n",
       "[914 rows x 11 columns]"
      ]
     },
     "execution_count": 112,
     "metadata": {},
     "output_type": "execute_result"
    }
   ],
   "source": [
    "# emotion_columns = list(emotion_lexicon.keys())\n",
    "emotion_columns.append('id')\n",
    "emotion_columns.append('total_emotion_shares')\n",
    "emotion_columns\n",
    "emotion_df = df[emotion_columns]\n",
    "emotion_df"
   ]
  },
  {
   "cell_type": "code",
   "execution_count": 194,
   "id": "b5db5f50",
   "metadata": {},
   "outputs": [
    {
     "data": {
      "image/png": "[encoded data removed]",
      "text/plain": [
       "<Figure size 640x480 with 1 Axes>"
      ]
     },
     "metadata": {},
     "output_type": "display_data"
    }
   ],
   "source": [
    "# Select the five largest emotions based on their mean values\n",
    "top_5_emotions = mean_emotions.nlargest(5)\n",
    "\n",
    "# Plot the bar chart\n",
    "top_5_emotions.plot(kind='bar', color='skyblue', edgecolor='black')\n",
    "plt.ylabel(\"Mean Share\")\n",
    "plt.xlabel(\"Emotion\")\n",
    "plt.title(\"Top 5 Largest Emotions\")\n",
    "plt.tight_layout()\n",
    "plt.show()"
   ]
  },
  {
   "cell_type": "code",
   "execution_count": 16,
   "id": "389bc0dc",
   "metadata": {},
   "outputs": [
    {
     "name": "stdout",
     "output_type": "stream",
     "text": [
      "[('#насилие_в_родах', 891), ('#ирония_унижение_обесценивание', 586), ('#игнор_просьб_о_помощи', 439), ('#игнор_боли', 417), ('#болезненный_осмотр', 311), ('#стимуляция_и_принуждение_к_ней', 303), ('#прокол_пузыря', 277), ('#эпизиотомия', 228), ('#нельзя_свободно_двигаться', 215), ('#выдавливание_кристеллер', 213), ('#клизма_бритьё', 211)]\n"
     ]
    }
   ],
   "source": [
    "from collections import Counter\n",
    "\n",
    "# Flatten the list of hashtags and count occurrences\n",
    "all_hashtags = [hashtag for hashtags in df['hashtags'] for hashtag in eval(hashtags)]\n",
    "hashtag_counts = Counter(all_hashtags)\n",
    "\n",
    "# Get the top unique hashtags\n",
    "top_hashtags = hashtag_counts.most_common(11)  # Adjust the number as needed\n",
    "print(top_hashtags)"
   ]
  },
  {
   "cell_type": "markdown",
   "id": "33e15c09",
   "metadata": {},
   "source": [
    "# Сохраняем данные"
   ]
  },
  {
   "cell_type": "code",
   "execution_count": 109,
   "id": "18f17722",
   "metadata": {},
   "outputs": [],
   "source": [
    "df.to_csv('../output/detailed_data_with_emotions.csv', index=False)"
   ]
  },
  {
   "cell_type": "code",
   "execution_count": 119,
   "id": "5896d461",
   "metadata": {},
   "outputs": [],
   "source": [
    "emotion_df.to_csv('../output/emotion_df.csv', index=False)"
   ]
  },
  {
   "cell_type": "code",
   "execution_count": 117,
   "id": "20d20068",
   "metadata": {},
   "outputs": [],
   "source": [
    "mean_emotions.to_csv('../output/mean_emotions.csv', index=False)"
   ]
  }
 ],
 "metadata": {
  "kernelspec": {
   "display_name": "APIs-v8A237SD",
   "language": "python",
   "name": "python3"
  },
  "language_info": {
   "codemirror_mode": {
    "name": "ipython",
    "version": 3
   },
   "file_extension": ".py",
   "mimetype": "text/x-python",
   "name": "python",
   "nbconvert_exporter": "python",
   "pygments_lexer": "ipython3",
   "version": "3.9.21"
  }
 },
 "nbformat": 4,
 "nbformat_minor": 5
}
